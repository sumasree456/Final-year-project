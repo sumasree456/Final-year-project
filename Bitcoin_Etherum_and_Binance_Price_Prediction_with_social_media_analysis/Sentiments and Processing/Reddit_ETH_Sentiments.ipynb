{
 "cells": [
  {
   "cell_type": "code",
   "execution_count": 12,
   "id": "36bdc786",
   "metadata": {},
   "outputs": [],
   "source": [
    "import os\n",
    "import numpy as np\n",
    "import pandas as pd\n",
    "import flair\n",
    "import datetime\n",
    "from textblob import TextBlob\n",
    "from vaderSentiment.vaderSentiment import SentimentIntensityAnalyzer\n",
    "from tqdm import tqdm"
   ]
  },
  {
   "cell_type": "code",
   "execution_count": 13,
   "id": "b9e8734d",
   "metadata": {},
   "outputs": [],
   "source": [
    "df = pd.read_csv('reddit_data_Ethereum.csv')"
   ]
  },
  {
   "cell_type": "code",
   "execution_count": 14,
   "id": "d617cc27",
   "metadata": {},
   "outputs": [],
   "source": [
    "df = df[['title','selftext','publish_date']]\n",
    "df['date'] = df['publish_date']\n",
    "df.drop('publish_date',axis=1,inplace=True)\n",
    "df = df.fillna('')\n",
    "df['text'] = df['title'] + ' ' + df['selftext']\n",
    "df.set_index('date', inplace=True)"
   ]
  },
  {
   "cell_type": "code",
   "execution_count": 15,
   "id": "15cf8fd9",
   "metadata": {},
   "outputs": [],
   "source": [
    "df.drop(['title','selftext'], axis=1, inplace=True)"
   ]
  },
  {
   "cell_type": "code",
   "execution_count": 16,
   "id": "0f842973",
   "metadata": {},
   "outputs": [
    {
     "name": "stdout",
     "output_type": "stream",
     "text": [
      "2022-05-02 12:48:40,117 loading file C:\\Users\\mpmur\\.flair\\models\\sentiment-en-mix-distillbert_4.pt\n"
     ]
    }
   ],
   "source": [
    "flair_sentiment = flair.models.TextClassifier.load('en-sentiment')\n",
    "fmt = '%Y-%m-%d %H:00:00'\n",
    "vader = SentimentIntensityAnalyzer()"
   ]
  },
  {
   "cell_type": "code",
   "execution_count": 17,
   "id": "5b45a06e",
   "metadata": {},
   "outputs": [],
   "source": [
    "def sentiment_val_flair(flair_tag,flair_score):\n",
    "    neg = 'NEGATIVE' in flair_tag\n",
    "    val = float(flair_score)\n",
    "    if neg:\n",
    "        return -val\n",
    "    return val"
   ]
  },
  {
   "cell_type": "code",
   "execution_count": 18,
   "id": "805ea5a8",
   "metadata": {},
   "outputs": [],
   "source": [
    "def get_sentiment_report(df):\n",
    "    tb_sentiment_polarity_ = []\n",
    "    tb_sentiment_subjectivity_ = []\n",
    "    flair_sentiment_ = []\n",
    "    pos_ = []\n",
    "    neg_ = []\n",
    "    neu_ = []\n",
    "    com_ = []\n",
    "    for i,j in enumerate(tqdm(df['text'])):\n",
    "        v = vader.polarity_scores(j)\n",
    "        pos_.append(v['pos'])\n",
    "        neg_.append(v['neg'])\n",
    "        neu_.append(v['neu'])\n",
    "        com_.append(v['compound'])\n",
    "        flair_s = flair.data.Sentence(j)\n",
    "        flair_sentiment.predict(flair_s)\n",
    "        flair_tag = flair_s.tag\n",
    "        flair_score = flair_s.score\n",
    "        flair_val = sentiment_val_flair(flair_tag,flair_score)\n",
    "        flair_sentiment_.append(flair_val)\n",
    "        tb_sentiment_polarity_.append(TextBlob(j).sentiment[0])\n",
    "        tb_sentiment_subjectivity_.append(TextBlob(j).sentiment[1])\n",
    "        \n",
    "    \n",
    "    df['Reddit_Flair'] = flair_sentiment_\n",
    "    df['Reddit_TB_Polarity'] = tb_sentiment_polarity_\n",
    "    df['Reddit_TB_Subjectivity'] = tb_sentiment_subjectivity_\n",
    "    df['Reddit_Vader_Pos'] = pos_\n",
    "    df['Reddit_Vader_Neg'] = neg_\n",
    "    df['Reddit_Vader_Neu'] = neu_\n",
    "    df['Reddit_Vader_Compound'] = com_\n",
    "    df.to_csv('Reddit_Sentiment_ETH.csv')"
   ]
  },
  {
   "cell_type": "code",
   "execution_count": 19,
   "id": "72e694a1",
   "metadata": {},
   "outputs": [
    {
     "name": "stderr",
     "output_type": "stream",
     "text": [
      "100%|██████████████████████████████████████████████████████████████████████████████| 2780/2780 [03:32<00:00, 13.11it/s]\n"
     ]
    }
   ],
   "source": [
    "get_sentiment_report(df)"
   ]
  },
  {
   "cell_type": "code",
   "execution_count": 10,
   "id": "d2445272",
   "metadata": {},
   "outputs": [
    {
     "data": {
      "text/html": [
       "<div>\n",
       "<style scoped>\n",
       "    .dataframe tbody tr th:only-of-type {\n",
       "        vertical-align: middle;\n",
       "    }\n",
       "\n",
       "    .dataframe tbody tr th {\n",
       "        vertical-align: top;\n",
       "    }\n",
       "\n",
       "    .dataframe thead th {\n",
       "        text-align: right;\n",
       "    }\n",
       "</style>\n",
       "<table border=\"1\" class=\"dataframe\">\n",
       "  <thead>\n",
       "    <tr style=\"text-align: right;\">\n",
       "      <th></th>\n",
       "      <th>text</th>\n",
       "      <th>Reddit_Flair</th>\n",
       "      <th>Reddit_TB_Polarity</th>\n",
       "      <th>Reddit_TB_Subjectivity</th>\n",
       "      <th>Reddit_Vader_Pos</th>\n",
       "      <th>Reddit_Vader_Neg</th>\n",
       "      <th>Reddit_Vader_Neu</th>\n",
       "      <th>Reddit_Vader_Compound</th>\n",
       "    </tr>\n",
       "    <tr>\n",
       "      <th>publish_date</th>\n",
       "      <th></th>\n",
       "      <th></th>\n",
       "      <th></th>\n",
       "      <th></th>\n",
       "      <th></th>\n",
       "      <th></th>\n",
       "      <th></th>\n",
       "      <th></th>\n",
       "    </tr>\n",
       "  </thead>\n",
       "  <tbody>\n",
       "    <tr>\n",
       "      <th>2022-01-01 00:19:11</th>\n",
       "      <td>Transferring matic on the ethereum network. I ...</td>\n",
       "      <td>-0.999178</td>\n",
       "      <td>0.062500</td>\n",
       "      <td>0.722222</td>\n",
       "      <td>0.034</td>\n",
       "      <td>0.027</td>\n",
       "      <td>0.939</td>\n",
       "      <td>-0.2507</td>\n",
       "    </tr>\n",
       "    <tr>\n",
       "      <th>2022-01-01 05:52:00</th>\n",
       "      <td>Use cases where user wouldn’t even know it’s b...</td>\n",
       "      <td>-0.999674</td>\n",
       "      <td>0.000000</td>\n",
       "      <td>0.000000</td>\n",
       "      <td>0.000</td>\n",
       "      <td>0.000</td>\n",
       "      <td>1.000</td>\n",
       "      <td>0.0000</td>\n",
       "    </tr>\n",
       "    <tr>\n",
       "      <th>2022-01-01 06:47:35</th>\n",
       "      <td>Should I invest in Ethereum now?</td>\n",
       "      <td>-0.989686</td>\n",
       "      <td>0.000000</td>\n",
       "      <td>0.000000</td>\n",
       "      <td>0.000</td>\n",
       "      <td>0.000</td>\n",
       "      <td>1.000</td>\n",
       "      <td>0.0000</td>\n",
       "    </tr>\n",
       "    <tr>\n",
       "      <th>2022-01-01 08:37:33</th>\n",
       "      <td>Eminem buys Bored Ape Yacht Club NFT for 450k ...</td>\n",
       "      <td>-0.992684</td>\n",
       "      <td>-0.500000</td>\n",
       "      <td>1.000000</td>\n",
       "      <td>0.000</td>\n",
       "      <td>0.174</td>\n",
       "      <td>0.826</td>\n",
       "      <td>-0.2732</td>\n",
       "    </tr>\n",
       "    <tr>\n",
       "      <th>2022-01-01 12:55:33</th>\n",
       "      <td>Happy New Year and May Ethereum reach millions...</td>\n",
       "      <td>0.995823</td>\n",
       "      <td>0.501894</td>\n",
       "      <td>0.575758</td>\n",
       "      <td>0.424</td>\n",
       "      <td>0.000</td>\n",
       "      <td>0.576</td>\n",
       "      <td>0.9098</td>\n",
       "    </tr>\n",
       "  </tbody>\n",
       "</table>\n",
       "</div>"
      ],
      "text/plain": [
       "                                                                  text  \\\n",
       "publish_date                                                             \n",
       "2022-01-01 00:19:11  Transferring matic on the ethereum network. I ...   \n",
       "2022-01-01 05:52:00  Use cases where user wouldn’t even know it’s b...   \n",
       "2022-01-01 06:47:35                  Should I invest in Ethereum now?    \n",
       "2022-01-01 08:37:33  Eminem buys Bored Ape Yacht Club NFT for 450k ...   \n",
       "2022-01-01 12:55:33  Happy New Year and May Ethereum reach millions...   \n",
       "\n",
       "                     Reddit_Flair  Reddit_TB_Polarity  Reddit_TB_Subjectivity  \\\n",
       "publish_date                                                                    \n",
       "2022-01-01 00:19:11     -0.999178            0.062500                0.722222   \n",
       "2022-01-01 05:52:00     -0.999674            0.000000                0.000000   \n",
       "2022-01-01 06:47:35     -0.989686            0.000000                0.000000   \n",
       "2022-01-01 08:37:33     -0.992684           -0.500000                1.000000   \n",
       "2022-01-01 12:55:33      0.995823            0.501894                0.575758   \n",
       "\n",
       "                     Reddit_Vader_Pos  Reddit_Vader_Neg  Reddit_Vader_Neu  \\\n",
       "publish_date                                                                \n",
       "2022-01-01 00:19:11             0.034             0.027             0.939   \n",
       "2022-01-01 05:52:00             0.000             0.000             1.000   \n",
       "2022-01-01 06:47:35             0.000             0.000             1.000   \n",
       "2022-01-01 08:37:33             0.000             0.174             0.826   \n",
       "2022-01-01 12:55:33             0.424             0.000             0.576   \n",
       "\n",
       "                     Reddit_Vader_Compound  \n",
       "publish_date                                \n",
       "2022-01-01 00:19:11                -0.2507  \n",
       "2022-01-01 05:52:00                 0.0000  \n",
       "2022-01-01 06:47:35                 0.0000  \n",
       "2022-01-01 08:37:33                -0.2732  \n",
       "2022-01-01 12:55:33                 0.9098  "
      ]
     },
     "execution_count": 10,
     "metadata": {},
     "output_type": "execute_result"
    }
   ],
   "source": [
    "df.head()"
   ]
  },
  {
   "cell_type": "code",
   "execution_count": 11,
   "id": "8b38ca48",
   "metadata": {},
   "outputs": [
    {
     "data": {
      "text/plain": [
       "text                       object\n",
       "Reddit_Flair              float64\n",
       "Reddit_TB_Polarity        float64\n",
       "Reddit_TB_Subjectivity    float64\n",
       "Reddit_Vader_Pos          float64\n",
       "Reddit_Vader_Neg          float64\n",
       "Reddit_Vader_Neu          float64\n",
       "Reddit_Vader_Compound     float64\n",
       "dtype: object"
      ]
     },
     "execution_count": 11,
     "metadata": {},
     "output_type": "execute_result"
    }
   ],
   "source": [
    "df.dtypes"
   ]
  },
  {
   "cell_type": "code",
   "execution_count": null,
   "id": "6d4d8e0f",
   "metadata": {},
   "outputs": [],
   "source": []
  },
  {
   "cell_type": "code",
   "execution_count": null,
   "id": "0ec20eb3",
   "metadata": {},
   "outputs": [],
   "source": []
  }
 ],
 "metadata": {
  "kernelspec": {
   "display_name": "Python 3 (ipykernel)",
   "language": "python",
   "name": "python3"
  },
  "language_info": {
   "codemirror_mode": {
    "name": "ipython",
    "version": 3
   },
   "file_extension": ".py",
   "mimetype": "text/x-python",
   "name": "python",
   "nbconvert_exporter": "python",
   "pygments_lexer": "ipython3",
   "version": "3.9.7"
  }
 },
 "nbformat": 4,
 "nbformat_minor": 5
}
