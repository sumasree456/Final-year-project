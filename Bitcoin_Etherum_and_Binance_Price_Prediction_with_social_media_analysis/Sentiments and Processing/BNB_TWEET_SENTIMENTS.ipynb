{
 "cells": [
  {
   "cell_type": "code",
   "execution_count": 1,
   "id": "3e0393bf",
   "metadata": {},
   "outputs": [],
   "source": [
    "import pandas as pd\n",
    "import flair\n",
    "from textblob import TextBlob\n",
    "from vaderSentiment.vaderSentiment import SentimentIntensityAnalyzer\n",
    "from tqdm import tnrange,tqdm_notebook,tqdm"
   ]
  },
  {
   "cell_type": "code",
   "execution_count": 21,
   "id": "8ad3f6f2",
   "metadata": {},
   "outputs": [
    {
     "data": {
      "text/html": [
       "<div>\n",
       "<style scoped>\n",
       "    .dataframe tbody tr th:only-of-type {\n",
       "        vertical-align: middle;\n",
       "    }\n",
       "\n",
       "    .dataframe tbody tr th {\n",
       "        vertical-align: top;\n",
       "    }\n",
       "\n",
       "    .dataframe thead th {\n",
       "        text-align: right;\n",
       "    }\n",
       "</style>\n",
       "<table border=\"1\" class=\"dataframe\">\n",
       "  <thead>\n",
       "    <tr style=\"text-align: right;\">\n",
       "      <th></th>\n",
       "      <th>Unnamed: 0</th>\n",
       "      <th>Date</th>\n",
       "      <th>text</th>\n",
       "      <th>likeCount</th>\n",
       "      <th>retweetCount</th>\n",
       "    </tr>\n",
       "  </thead>\n",
       "  <tbody>\n",
       "    <tr>\n",
       "      <th>0</th>\n",
       "      <td>0</td>\n",
       "      <td>2022-01-01 23:59:12+00:00</td>\n",
       "      <td>@TheMoonCarl @kasta_app @cz_binance Where can ...</td>\n",
       "      <td>1</td>\n",
       "      <td>0</td>\n",
       "    </tr>\n",
       "    <tr>\n",
       "      <th>1</th>\n",
       "      <td>1</td>\n",
       "      <td>2022-01-01 23:59:10+00:00</td>\n",
       "      <td>BTC diamond reversal and expected volatility f...</td>\n",
       "      <td>1</td>\n",
       "      <td>0</td>\n",
       "    </tr>\n",
       "    <tr>\n",
       "      <th>2</th>\n",
       "      <td>2</td>\n",
       "      <td>2022-01-01 23:59:10+00:00</td>\n",
       "      <td>@Dustin62025548 @binance @CEEK</td>\n",
       "      <td>1</td>\n",
       "      <td>0</td>\n",
       "    </tr>\n",
       "    <tr>\n",
       "      <th>3</th>\n",
       "      <td>3</td>\n",
       "      <td>2022-01-01 23:58:56+00:00</td>\n",
       "      <td>@MusadiqBabydoge @BabyDogeCoin @cz_binance @el...</td>\n",
       "      <td>1</td>\n",
       "      <td>0</td>\n",
       "    </tr>\n",
       "    <tr>\n",
       "      <th>4</th>\n",
       "      <td>4</td>\n",
       "      <td>2022-01-01 23:58:49+00:00</td>\n",
       "      <td>@cz_binance $KDA</td>\n",
       "      <td>3</td>\n",
       "      <td>1</td>\n",
       "    </tr>\n",
       "  </tbody>\n",
       "</table>\n",
       "</div>"
      ],
      "text/plain": [
       "   Unnamed: 0                       Date  \\\n",
       "0           0  2022-01-01 23:59:12+00:00   \n",
       "1           1  2022-01-01 23:59:10+00:00   \n",
       "2           2  2022-01-01 23:59:10+00:00   \n",
       "3           3  2022-01-01 23:58:56+00:00   \n",
       "4           4  2022-01-01 23:58:49+00:00   \n",
       "\n",
       "                                                text  likeCount  retweetCount  \n",
       "0  @TheMoonCarl @kasta_app @cz_binance Where can ...          1             0  \n",
       "1  BTC diamond reversal and expected volatility f...          1             0  \n",
       "2                     @Dustin62025548 @binance @CEEK          1             0  \n",
       "3  @MusadiqBabydoge @BabyDogeCoin @cz_binance @el...          1             0  \n",
       "4                                   @cz_binance $KDA          3             1  "
      ]
     },
     "execution_count": 21,
     "metadata": {},
     "output_type": "execute_result"
    }
   ],
   "source": [
    "df = pd.read_excel('BNB_TWEETS.xlsx')\n",
    "df.head()"
   ]
  },
  {
   "cell_type": "code",
   "execution_count": 22,
   "id": "275f6890",
   "metadata": {},
   "outputs": [
    {
     "data": {
      "text/plain": [
       "(570002, 5)"
      ]
     },
     "execution_count": 22,
     "metadata": {},
     "output_type": "execute_result"
    }
   ],
   "source": [
    "df.shape"
   ]
  },
  {
   "cell_type": "code",
   "execution_count": 23,
   "id": "2b09594b",
   "metadata": {},
   "outputs": [],
   "source": [
    "df['Date'] = pd.to_datetime(df['Date'])"
   ]
  },
  {
   "cell_type": "code",
   "execution_count": 24,
   "id": "a460efd4",
   "metadata": {},
   "outputs": [],
   "source": [
    "df.drop('Unnamed: 0',axis=1,inplace=True)"
   ]
  },
  {
   "cell_type": "code",
   "execution_count": 28,
   "id": "5da3c43d",
   "metadata": {},
   "outputs": [],
   "source": [
    "df.dropna(inplace=True)"
   ]
  },
  {
   "cell_type": "code",
   "execution_count": 29,
   "id": "6192a846",
   "metadata": {},
   "outputs": [
    {
     "name": "stderr",
     "output_type": "stream",
     "text": [
      "100%|████████████████████████████████████████████████████████████████████████| 569997/569997 [02:11<00:00, 4321.25it/s]\n"
     ]
    }
   ],
   "source": [
    "analyzer = SentimentIntensityAnalyzer()\n",
    "compound=[]\n",
    "pos=[]\n",
    "neg=[]\n",
    "neu=[]\n",
    "for i,j in enumerate(tqdm(df['text'])):\n",
    "    v = analyzer.polarity_scores(j)\n",
    "    compound.append(v['compound'])\n",
    "    pos.append(v['pos'])\n",
    "    neg.append(v['neg'])\n",
    "    neu.append(v['neu'])\n",
    "df['compound'] = compound\n",
    "df['pos'] = pos\n",
    "df['neg'] = neg\n",
    "df['neu'] = neu"
   ]
  },
  {
   "cell_type": "code",
   "execution_count": null,
   "id": "624c74b6",
   "metadata": {},
   "outputs": [],
   "source": [
    "df['compound'] = df['compound'].round(decimals=1)\n",
    "df['pos'] = df['pos'].round(decimals=1)\n",
    "df['neg'] = df['neg'].round(decimals=1)\n",
    "df['neu'] = df['neu'].round(decimals=1)"
   ]
  },
  {
   "cell_type": "code",
   "execution_count": 37,
   "id": "d6f40e5e",
   "metadata": {},
   "outputs": [
    {
     "name": "stdout",
     "output_type": "stream",
     "text": [
      "2022-05-03 21:34:02,465 loading file C:\\Users\\nmahi\\.flair\\models\\sentiment-en-mix-distillbert_4.pt\n"
     ]
    }
   ],
   "source": [
    "flair_sentiment = flair.models.TextClassifier.load('en-sentiment')\n",
    "fmt = '%Y-%m-%d %H:00:00'"
   ]
  },
  {
   "cell_type": "code",
   "execution_count": 38,
   "id": "c3a8a51d",
   "metadata": {},
   "outputs": [],
   "source": [
    "def sentiment_val_flair(flair_tag,flair_score):\n",
    "    neg = 'NEGATIVE' in flair_tag\n",
    "    val = float(flair_score)\n",
    "    if neg:\n",
    "        return -val\n",
    "    return val"
   ]
  },
  {
   "cell_type": "code",
   "execution_count": 46,
   "id": "5b38676b",
   "metadata": {},
   "outputs": [],
   "source": [
    "def get_sentiment_report(df):\n",
    "    tb_sentiment_polarity_=[]\n",
    "    tb_sentiment_subjectivity_=[]\n",
    "    flair_sentiment_ = []\n",
    "    for i,j in enumerate(tqdm(df['text'])):\n",
    "        flair_s = flair.data.Sentence(j)\n",
    "        flair_sentiment.predict(flair_s)\n",
    "        flair_tag = flair_s.tag\n",
    "        flair_score = flair_s.score\n",
    "        flair_val = sentiment_val_flair(flair_tag,flair_score)\n",
    "        flair_sentiment_.append(flair_val)\n",
    "        tb_sentiment_polarity_.append(TextBlob(j).sentiment[0])\n",
    "        tb_sentiment_subjectivity_.append(TextBlob(j).sentiment[1])\n",
    "    df['Twitter_Flair'] = flair_sentiment_\n",
    "    df['Twitter_TB_Polarity'] = tb_sentiment_polarity_\n",
    "    df['Twitter_TB_Subjectivity'] = tb_sentiment_subjectivity_"
   ]
  },
  {
   "cell_type": "code",
   "execution_count": 47,
   "id": "5905014a",
   "metadata": {},
   "outputs": [
    {
     "name": "stderr",
     "output_type": "stream",
     "text": [
      "100%|████████████████████████████████████████████████████████████████████████| 569997/569997 [9:30:25<00:00, 16.65it/s]\n"
     ]
    }
   ],
   "source": [
    "get_sentiment_report(df)"
   ]
  },
  {
   "cell_type": "code",
   "execution_count": 48,
   "id": "2935f7bc",
   "metadata": {},
   "outputs": [],
   "source": [
    "df.to_csv('BNB_TWEET_PROCESSED.csv')"
   ]
  },
  {
   "cell_type": "code",
   "execution_count": null,
   "id": "c0fc5c01",
   "metadata": {},
   "outputs": [],
   "source": []
  }
 ],
 "metadata": {
  "kernelspec": {
   "display_name": "Python 3",
   "language": "python",
   "name": "python3"
  },
  "language_info": {
   "codemirror_mode": {
    "name": "ipython",
    "version": 3
   },
   "file_extension": ".py",
   "mimetype": "text/x-python",
   "name": "python",
   "nbconvert_exporter": "python",
   "pygments_lexer": "ipython3",
   "version": "3.8.8"
  }
 },
 "nbformat": 4,
 "nbformat_minor": 5
}
