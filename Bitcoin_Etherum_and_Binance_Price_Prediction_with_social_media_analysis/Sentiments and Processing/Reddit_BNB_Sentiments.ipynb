{
 "cells": [
  {
   "cell_type": "code",
   "execution_count": 1,
   "id": "314b1177",
   "metadata": {},
   "outputs": [],
   "source": [
    "import os\n",
    "import numpy as np\n",
    "import pandas as pd\n",
    "import flair\n",
    "import datetime\n",
    "from textblob import TextBlob\n",
    "from vaderSentiment.vaderSentiment import SentimentIntensityAnalyzer\n",
    "from tqdm import tqdm"
   ]
  },
  {
   "cell_type": "code",
   "execution_count": 2,
   "id": "9c8d36cd",
   "metadata": {},
   "outputs": [
    {
     "data": {
      "text/html": [
       "<div>\n",
       "<style scoped>\n",
       "    .dataframe tbody tr th:only-of-type {\n",
       "        vertical-align: middle;\n",
       "    }\n",
       "\n",
       "    .dataframe tbody tr th {\n",
       "        vertical-align: top;\n",
       "    }\n",
       "\n",
       "    .dataframe thead th {\n",
       "        text-align: right;\n",
       "    }\n",
       "</style>\n",
       "<table border=\"1\" class=\"dataframe\">\n",
       "  <thead>\n",
       "    <tr style=\"text-align: right;\">\n",
       "      <th></th>\n",
       "      <th>post_id</th>\n",
       "      <th>title</th>\n",
       "      <th>selftext</th>\n",
       "      <th>url</th>\n",
       "      <th>author</th>\n",
       "      <th>score</th>\n",
       "      <th>publish_date</th>\n",
       "      <th>num_of_comments</th>\n",
       "      <th>permalink</th>\n",
       "      <th>flair</th>\n",
       "    </tr>\n",
       "  </thead>\n",
       "  <tbody>\n",
       "    <tr>\n",
       "      <th>0</th>\n",
       "      <td>rt08h3</td>\n",
       "      <td>Transferring ADA back to Binance from Binance ...</td>\n",
       "      <td>Hello guys,\\n\\nRecently, I transferred my ADA ...</td>\n",
       "      <td>https://www.reddit.com/r/binance/comments/rt08...</td>\n",
       "      <td>samilniftaliyev</td>\n",
       "      <td>1</td>\n",
       "      <td>2022-01-01 00:04:39</td>\n",
       "      <td>0</td>\n",
       "      <td>/r/binance/comments/rt08h3/transferring_ada_ba...</td>\n",
       "      <td>Binance.com</td>\n",
       "    </tr>\n",
       "    <tr>\n",
       "      <th>1</th>\n",
       "      <td>rt0akw</td>\n",
       "      <td>IPad Binance App</td>\n",
       "      <td>NaN</td>\n",
       "      <td>https://www.reddit.com/r/binance/comments/rt0a...</td>\n",
       "      <td>sanchit123k</td>\n",
       "      <td>1</td>\n",
       "      <td>2022-01-01 00:07:44</td>\n",
       "      <td>0</td>\n",
       "      <td>/r/binance/comments/rt0akw/ipad_binance_app/</td>\n",
       "      <td>General</td>\n",
       "    </tr>\n",
       "    <tr>\n",
       "      <th>2</th>\n",
       "      <td>rt0b8v</td>\n",
       "      <td>Have you ever sent coins from Metamask into th...</td>\n",
       "      <td>NaN</td>\n",
       "      <td>https://www.reddit.com/r/binance/comments/rt0b...</td>\n",
       "      <td>VittorSilva</td>\n",
       "      <td>1</td>\n",
       "      <td>2022-01-01 00:08:44</td>\n",
       "      <td>0</td>\n",
       "      <td>/r/binance/comments/rt0b8v/have_you_ever_sent_...</td>\n",
       "      <td>General</td>\n",
       "    </tr>\n",
       "    <tr>\n",
       "      <th>3</th>\n",
       "      <td>rt0ppu</td>\n",
       "      <td>Binance has closed its China market, will this...</td>\n",
       "      <td>NaN</td>\n",
       "      <td>https://i.redd.it/33t8y8ysdx881.jpg</td>\n",
       "      <td>Christina21000</td>\n",
       "      <td>1</td>\n",
       "      <td>2022-01-01 00:28:52</td>\n",
       "      <td>0</td>\n",
       "      <td>/r/binance/comments/rt0ppu/binance_has_closed_...</td>\n",
       "      <td>General</td>\n",
       "    </tr>\n",
       "    <tr>\n",
       "      <th>4</th>\n",
       "      <td>rt1e7y</td>\n",
       "      <td>Ontario securities regulator slams Binance aft...</td>\n",
       "      <td>NaN</td>\n",
       "      <td>https://www.theblockcrypto.com/post/128831/ont...</td>\n",
       "      <td>the_dreamer2020</td>\n",
       "      <td>1</td>\n",
       "      <td>2022-01-01 01:01:44</td>\n",
       "      <td>0</td>\n",
       "      <td>/r/binance/comments/rt1e7y/ontario_securities_...</td>\n",
       "      <td>General</td>\n",
       "    </tr>\n",
       "  </tbody>\n",
       "</table>\n",
       "</div>"
      ],
      "text/plain": [
       "  post_id                                              title  \\\n",
       "0  rt08h3  Transferring ADA back to Binance from Binance ...   \n",
       "1  rt0akw                                   IPad Binance App   \n",
       "2  rt0b8v  Have you ever sent coins from Metamask into th...   \n",
       "3  rt0ppu  Binance has closed its China market, will this...   \n",
       "4  rt1e7y  Ontario securities regulator slams Binance aft...   \n",
       "\n",
       "                                            selftext  \\\n",
       "0  Hello guys,\\n\\nRecently, I transferred my ADA ...   \n",
       "1                                                NaN   \n",
       "2                                                NaN   \n",
       "3                                                NaN   \n",
       "4                                                NaN   \n",
       "\n",
       "                                                 url           author  score  \\\n",
       "0  https://www.reddit.com/r/binance/comments/rt08...  samilniftaliyev      1   \n",
       "1  https://www.reddit.com/r/binance/comments/rt0a...      sanchit123k      1   \n",
       "2  https://www.reddit.com/r/binance/comments/rt0b...      VittorSilva      1   \n",
       "3                https://i.redd.it/33t8y8ysdx881.jpg   Christina21000      1   \n",
       "4  https://www.theblockcrypto.com/post/128831/ont...  the_dreamer2020      1   \n",
       "\n",
       "          publish_date  num_of_comments  \\\n",
       "0  2022-01-01 00:04:39                0   \n",
       "1  2022-01-01 00:07:44                0   \n",
       "2  2022-01-01 00:08:44                0   \n",
       "3  2022-01-01 00:28:52                0   \n",
       "4  2022-01-01 01:01:44                0   \n",
       "\n",
       "                                           permalink        flair  \n",
       "0  /r/binance/comments/rt08h3/transferring_ada_ba...  Binance.com  \n",
       "1       /r/binance/comments/rt0akw/ipad_binance_app/      General  \n",
       "2  /r/binance/comments/rt0b8v/have_you_ever_sent_...      General  \n",
       "3  /r/binance/comments/rt0ppu/binance_has_closed_...      General  \n",
       "4  /r/binance/comments/rt1e7y/ontario_securities_...      General  "
      ]
     },
     "execution_count": 2,
     "metadata": {},
     "output_type": "execute_result"
    }
   ],
   "source": [
    "df = pd.read_csv('Reddit_data_Binance.csv')\n",
    "df.head()"
   ]
  },
  {
   "cell_type": "code",
   "execution_count": 3,
   "id": "c65fac76",
   "metadata": {},
   "outputs": [],
   "source": [
    "df = df[['title','selftext','publish_date']]\n",
    "df['date'] = df['publish_date']\n",
    "df.drop('publish_date',axis=1,inplace=True)\n",
    "df = df.fillna('')\n",
    "df['text'] = df['title'] + ' ' + df['selftext']\n",
    "df.set_index('date', inplace=True)"
   ]
  },
  {
   "cell_type": "code",
   "execution_count": 4,
   "id": "afa020ef",
   "metadata": {},
   "outputs": [],
   "source": [
    "df.drop(['title','selftext'], axis=1, inplace=True)"
   ]
  },
  {
   "cell_type": "code",
   "execution_count": 5,
   "id": "fa541c16",
   "metadata": {},
   "outputs": [
    {
     "name": "stdout",
     "output_type": "stream",
     "text": [
      "2022-05-10 13:10:37,967 loading file C:\\Users\\mpmur\\.flair\\models\\sentiment-en-mix-distillbert_4.pt\n"
     ]
    }
   ],
   "source": [
    "flair_sentiment = flair.models.TextClassifier.load('en-sentiment')\n",
    "fmt = '%Y-%m-%d %H:00:00'\n",
    "vader = SentimentIntensityAnalyzer()"
   ]
  },
  {
   "cell_type": "code",
   "execution_count": 6,
   "id": "a06cf682",
   "metadata": {},
   "outputs": [],
   "source": [
    "def sentiment_val_flair(flair_tag,flair_score):\n",
    "    neg = 'NEGATIVE' in flair_tag\n",
    "    val = float(flair_score)\n",
    "    if neg:\n",
    "        return -val\n",
    "    return val"
   ]
  },
  {
   "cell_type": "code",
   "execution_count": 7,
   "id": "81045b08",
   "metadata": {},
   "outputs": [],
   "source": [
    "def get_sentiment_report(df):\n",
    "    tb_sentiment_polarity_ = []\n",
    "    tb_sentiment_subjectivity_ = []\n",
    "    flair_sentiment_ = []\n",
    "    pos_ = []\n",
    "    neg_ = []\n",
    "    neu_ = []\n",
    "    com_ = []\n",
    "    for i,j in enumerate(tqdm(df['text'])):\n",
    "        v = vader.polarity_scores(j)\n",
    "        pos_.append(v['pos'])\n",
    "        neg_.append(v['neg'])\n",
    "        neu_.append(v['neu'])\n",
    "        com_.append(v['compound'])\n",
    "        flair_s = flair.data.Sentence(j)\n",
    "        flair_sentiment.predict(flair_s)\n",
    "        flair_tag = flair_s.tag\n",
    "        flair_score = flair_s.score\n",
    "        flair_val = sentiment_val_flair(flair_tag,flair_score)\n",
    "        flair_sentiment_.append(flair_val)\n",
    "        tb_sentiment_polarity_.append(TextBlob(j).sentiment[0])\n",
    "        tb_sentiment_subjectivity_.append(TextBlob(j).sentiment[1])\n",
    "        \n",
    "    \n",
    "    df['Reddit_Flair'] = flair_sentiment_\n",
    "    df['Reddit_TB_Polarity'] = tb_sentiment_polarity_\n",
    "    df['Reddit_TB_Subjectivity'] = tb_sentiment_subjectivity_\n",
    "    df['Reddit_Vader_Pos'] = pos_\n",
    "    df['Reddit_Vader_Neg'] = neg_\n",
    "    df['Reddit_Vader_Neu'] = neu_\n",
    "    df['Reddit_Vader_Compound'] = com_\n",
    "    df.to_csv('Reddit_Sentiment_BNB.csv')"
   ]
  },
  {
   "cell_type": "code",
   "execution_count": 8,
   "id": "2a972b85",
   "metadata": {},
   "outputs": [
    {
     "name": "stderr",
     "output_type": "stream",
     "text": [
      "100%|██████████████████████████████████████████████████████████████████████████████| 3164/3164 [06:06<00:00,  8.64it/s]\n"
     ]
    }
   ],
   "source": [
    "get_sentiment_report(df)"
   ]
  },
  {
   "cell_type": "code",
   "execution_count": null,
   "id": "af7c3fce",
   "metadata": {},
   "outputs": [],
   "source": []
  }
 ],
 "metadata": {
  "kernelspec": {
   "display_name": "Python 3 (ipykernel)",
   "language": "python",
   "name": "python3"
  },
  "language_info": {
   "codemirror_mode": {
    "name": "ipython",
    "version": 3
   },
   "file_extension": ".py",
   "mimetype": "text/x-python",
   "name": "python",
   "nbconvert_exporter": "python",
   "pygments_lexer": "ipython3",
   "version": "3.9.7"
  }
 },
 "nbformat": 4,
 "nbformat_minor": 5
}
