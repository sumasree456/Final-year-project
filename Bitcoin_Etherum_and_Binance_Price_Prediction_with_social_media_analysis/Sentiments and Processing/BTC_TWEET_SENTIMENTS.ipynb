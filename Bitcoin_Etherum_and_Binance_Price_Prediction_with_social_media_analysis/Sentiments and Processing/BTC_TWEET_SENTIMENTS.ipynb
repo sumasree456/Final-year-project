{
 "cells": [
  {
   "cell_type": "code",
   "execution_count": 1,
   "id": "0b59d406",
   "metadata": {},
   "outputs": [],
   "source": [
    "import pandas as pd\n",
    "from datetime import datetime\n",
    "import flair\n",
    "from textblob import TextBlob"
   ]
  },
  {
   "cell_type": "code",
   "execution_count": 2,
   "id": "9aea6c90",
   "metadata": {},
   "outputs": [],
   "source": [
    "from vaderSentiment.vaderSentiment import SentimentIntensityAnalyzer\n",
    "from tqdm import tnrange, tqdm_notebook, tqdm"
   ]
  },
  {
   "cell_type": "code",
   "execution_count": 6,
   "id": "ac8f1a51",
   "metadata": {},
   "outputs": [
    {
     "data": {
      "text/html": [
       "<div>\n",
       "<style scoped>\n",
       "    .dataframe tbody tr th:only-of-type {\n",
       "        vertical-align: middle;\n",
       "    }\n",
       "\n",
       "    .dataframe tbody tr th {\n",
       "        vertical-align: top;\n",
       "    }\n",
       "\n",
       "    .dataframe thead th {\n",
       "        text-align: right;\n",
       "    }\n",
       "</style>\n",
       "<table border=\"1\" class=\"dataframe\">\n",
       "  <thead>\n",
       "    <tr style=\"text-align: right;\">\n",
       "      <th></th>\n",
       "      <th>Unnamed: 0</th>\n",
       "      <th>Datetime</th>\n",
       "      <th>Tweet Id</th>\n",
       "      <th>Text</th>\n",
       "      <th>Username</th>\n",
       "      <th>hashtags</th>\n",
       "      <th>lang</th>\n",
       "      <th>likeCount</th>\n",
       "      <th>retweetCount</th>\n",
       "    </tr>\n",
       "  </thead>\n",
       "  <tbody>\n",
       "    <tr>\n",
       "      <th>0</th>\n",
       "      <td>0</td>\n",
       "      <td>2022-01-01 23:59:58+00:00</td>\n",
       "      <td>1.477430e+18</td>\n",
       "      <td>@doejohn73 @Diegoqs80 El Bitcoin serÃ¡ manipul...</td>\n",
       "      <td>G181133</td>\n",
       "      <td>NaN</td>\n",
       "      <td>es</td>\n",
       "      <td>3</td>\n",
       "      <td>0</td>\n",
       "    </tr>\n",
       "    <tr>\n",
       "      <th>1</th>\n",
       "      <td>1</td>\n",
       "      <td>2022-01-01 23:59:35+00:00</td>\n",
       "      <td>1.477430e+18</td>\n",
       "      <td>If your interested in losing money in 2022 kee...</td>\n",
       "      <td>robert54177167</td>\n",
       "      <td>['bitcoin']</td>\n",
       "      <td>en</td>\n",
       "      <td>7</td>\n",
       "      <td>2</td>\n",
       "    </tr>\n",
       "    <tr>\n",
       "      <th>2</th>\n",
       "      <td>2</td>\n",
       "      <td>2022-01-01 23:59:26+00:00</td>\n",
       "      <td>1.477430e+18</td>\n",
       "      <td>@SirPantsALot2 @fairguinevere @totallynotem_ @...</td>\n",
       "      <td>AxolotolH</td>\n",
       "      <td>NaN</td>\n",
       "      <td>en</td>\n",
       "      <td>129</td>\n",
       "      <td>0</td>\n",
       "    </tr>\n",
       "    <tr>\n",
       "      <th>3</th>\n",
       "      <td>3</td>\n",
       "      <td>2022-01-01 23:59:10+00:00</td>\n",
       "      <td>1.477430e+18</td>\n",
       "      <td>BTC diamond reversal and expected volatility f...</td>\n",
       "      <td>nyan_lou618</td>\n",
       "      <td>['Bitcoin', 'trading']</td>\n",
       "      <td>en</td>\n",
       "      <td>1</td>\n",
       "      <td>0</td>\n",
       "    </tr>\n",
       "    <tr>\n",
       "      <th>4</th>\n",
       "      <td>4</td>\n",
       "      <td>2022-01-01 23:59:10+00:00</td>\n",
       "      <td>1.477430e+18</td>\n",
       "      <td>if we ever get to the point where we start pay...</td>\n",
       "      <td>joybowtie</td>\n",
       "      <td>NaN</td>\n",
       "      <td>en</td>\n",
       "      <td>1</td>\n",
       "      <td>0</td>\n",
       "    </tr>\n",
       "  </tbody>\n",
       "</table>\n",
       "</div>"
      ],
      "text/plain": [
       "   Unnamed: 0                   Datetime      Tweet Id  \\\n",
       "0           0  2022-01-01 23:59:58+00:00  1.477430e+18   \n",
       "1           1  2022-01-01 23:59:35+00:00  1.477430e+18   \n",
       "2           2  2022-01-01 23:59:26+00:00  1.477430e+18   \n",
       "3           3  2022-01-01 23:59:10+00:00  1.477430e+18   \n",
       "4           4  2022-01-01 23:59:10+00:00  1.477430e+18   \n",
       "\n",
       "                                                Text        Username  \\\n",
       "0  @doejohn73 @Diegoqs80 El Bitcoin serÃ¡ manipul...         G181133   \n",
       "1  If your interested in losing money in 2022 kee...  robert54177167   \n",
       "2  @SirPantsALot2 @fairguinevere @totallynotem_ @...       AxolotolH   \n",
       "3  BTC diamond reversal and expected volatility f...     nyan_lou618   \n",
       "4  if we ever get to the point where we start pay...       joybowtie   \n",
       "\n",
       "                 hashtags lang  likeCount  retweetCount  \n",
       "0                     NaN   es          3             0  \n",
       "1             ['bitcoin']   en          7             2  \n",
       "2                     NaN   en        129             0  \n",
       "3  ['Bitcoin', 'trading']   en          1             0  \n",
       "4                     NaN   en          1             0  "
      ]
     },
     "execution_count": 6,
     "metadata": {},
     "output_type": "execute_result"
    }
   ],
   "source": [
    "df = pd.read_excel('BTC_TWEETS.xlsx')\n",
    "df.head()"
   ]
  },
  {
   "cell_type": "code",
   "execution_count": 8,
   "id": "43067a3e",
   "metadata": {},
   "outputs": [],
   "source": [
    "df['Date'] = pd.to_datetime(df['Datetime'])"
   ]
  },
  {
   "cell_type": "code",
   "execution_count": 9,
   "id": "02fd0737",
   "metadata": {},
   "outputs": [],
   "source": [
    "df.drop('Unnamed: 0',axis=1,inplace=True)\n",
    "df.drop('Tweet Id',axis=1,inplace=True)\n",
    "df.drop('Username',axis=1,inplace=True)\n",
    "df.drop('hashtags',axis=1,inplace=True)\n",
    "df.drop('lang',axis=1,inplace=True)\n",
    "df.drop('Datetime',axis=1,inplace=True)"
   ]
  },
  {
   "cell_type": "code",
   "execution_count": 10,
   "id": "6d8abf99",
   "metadata": {},
   "outputs": [],
   "source": [
    "df.dropna(inplace=True)"
   ]
  },
  {
   "cell_type": "code",
   "execution_count": 11,
   "id": "6ae0bc1e",
   "metadata": {},
   "outputs": [
    {
     "name": "stderr",
     "output_type": "stream",
     "text": [
      "100%|████████████████████████████████████████████████████████████████████████| 634878/634878 [04:12<00:00, 2516.13it/s]\n"
     ]
    },
    {
     "data": {
      "text/html": [
       "<div>\n",
       "<style scoped>\n",
       "    .dataframe tbody tr th:only-of-type {\n",
       "        vertical-align: middle;\n",
       "    }\n",
       "\n",
       "    .dataframe tbody tr th {\n",
       "        vertical-align: top;\n",
       "    }\n",
       "\n",
       "    .dataframe thead th {\n",
       "        text-align: right;\n",
       "    }\n",
       "</style>\n",
       "<table border=\"1\" class=\"dataframe\">\n",
       "  <thead>\n",
       "    <tr style=\"text-align: right;\">\n",
       "      <th></th>\n",
       "      <th>Text</th>\n",
       "      <th>likeCount</th>\n",
       "      <th>retweetCount</th>\n",
       "      <th>Date</th>\n",
       "      <th>compound</th>\n",
       "    </tr>\n",
       "  </thead>\n",
       "  <tbody>\n",
       "    <tr>\n",
       "      <th>0</th>\n",
       "      <td>@doejohn73 @Diegoqs80 El Bitcoin serÃ¡ manipul...</td>\n",
       "      <td>3</td>\n",
       "      <td>0</td>\n",
       "      <td>2022-01-01 23:59:58+00:00</td>\n",
       "      <td>0.0000</td>\n",
       "    </tr>\n",
       "    <tr>\n",
       "      <th>1</th>\n",
       "      <td>If your interested in losing money in 2022 kee...</td>\n",
       "      <td>7</td>\n",
       "      <td>2</td>\n",
       "      <td>2022-01-01 23:59:35+00:00</td>\n",
       "      <td>0.8225</td>\n",
       "    </tr>\n",
       "  </tbody>\n",
       "</table>\n",
       "</div>"
      ],
      "text/plain": [
       "                                                Text  likeCount  retweetCount  \\\n",
       "0  @doejohn73 @Diegoqs80 El Bitcoin serÃ¡ manipul...          3             0   \n",
       "1  If your interested in losing money in 2022 kee...          7             2   \n",
       "\n",
       "                       Date  compound  \n",
       "0 2022-01-01 23:59:58+00:00    0.0000  \n",
       "1 2022-01-01 23:59:35+00:00    0.8225  "
      ]
     },
     "execution_count": 11,
     "metadata": {},
     "output_type": "execute_result"
    }
   ],
   "source": [
    "analyzer = SentimentIntensityAnalyzer()\n",
    "compound=[]\n",
    "pos_tweet = []\n",
    "neg_tweet = []\n",
    "neu_tweet = []\n",
    "for i,j in enumerate(tqdm(df['Text'])):\n",
    "    v = analyzer.polarity_scores(j)\n",
    "    compound.append(v['compound'])\n",
    "    pos_tweet.append(v['pos'])\n",
    "    neg_tweet.append(v['neg'])\n",
    "    neu_tweet.append(v['neu'])\n",
    "\n",
    "df['compound'] = compound\n",
    "df.head(2)"
   ]
  },
  {
   "cell_type": "code",
   "execution_count": 12,
   "id": "1c452f3e",
   "metadata": {},
   "outputs": [],
   "source": [
    "df['pos'] = pos_tweet\n",
    "df['neg'] = neg_tweet\n",
    "df['neu'] = neu_tweet\n",
    "df['compound'] = df['compound'].round(decimals=1)\n",
    "df['pos'] = df['pos'].round(decimals=1)\n",
    "df['neg'] = df['neg'].round(decimals=1)\n",
    "df['neg'] = df['neg'].round(decimals=1)"
   ]
  },
  {
   "cell_type": "code",
   "execution_count": 13,
   "id": "62cbfc77",
   "metadata": {},
   "outputs": [
    {
     "name": "stdout",
     "output_type": "stream",
     "text": [
      "2022-05-03 22:57:57,898 loading file C:\\Users\\mpmur\\.flair\\models\\sentiment-en-mix-distillbert_4.pt\n"
     ]
    }
   ],
   "source": [
    "flair_sentiment = flair.models.TextClassifier.load('en-sentiment')\n",
    "fmt = '%Y-%m-%d %H:00:00'"
   ]
  },
  {
   "cell_type": "code",
   "execution_count": 14,
   "id": "f5e64a2c",
   "metadata": {},
   "outputs": [],
   "source": [
    "def sentiment_val_flair(flair_tag,flair_score):\n",
    "    neg = 'NEGATIVE' in flair_tag\n",
    "    val = float(flair_score)\n",
    "    if neg:\n",
    "        return -val\n",
    "    return val"
   ]
  },
  {
   "cell_type": "code",
   "execution_count": 15,
   "id": "fc531060",
   "metadata": {},
   "outputs": [],
   "source": [
    "def get_sentiment_report(df):\n",
    "    tb_sentiment_polarity_ = []\n",
    "    tb_sentiment_subjectivity_ = []\n",
    "    flair_sentiment_ = []\n",
    "    for i,j in enumerate(tqdm(df['Text'])):\n",
    "        flair_s = flair.data.Sentence(j)\n",
    "        flair_sentiment.predict(flair_s)\n",
    "        flair_tag = flair_s.tag\n",
    "        flair_score = flair_s.score\n",
    "        flair_val = sentiment_val_flair(flair_tag,flair_score)\n",
    "        flair_sentiment_.append(flair_val)\n",
    "        tb_sentiment_polarity_.append(TextBlob(j).sentiment[0])\n",
    "        tb_sentiment_subjectivity_.append(TextBlob(j).sentiment[1])\n",
    "    df['Twitter_Flair'] = flair_sentiment_\n",
    "    df['Twitter_TB_Polarity'] = tb_sentiment_polarity_\n",
    "    df['Twitter_TB_Subjectivity'] = tb_sentiment_subjectivity_\n",
    "    "
   ]
  },
  {
   "cell_type": "code",
   "execution_count": 16,
   "id": "b5dcaf2d",
   "metadata": {},
   "outputs": [
    {
     "name": "stderr",
     "output_type": "stream",
     "text": [
      "100%|███████████████████████████████████████████████████████████████████████| 634878/634878 [18:34:14<00:00,  9.50it/s]\n"
     ]
    }
   ],
   "source": [
    "get_sentiment_report(df)"
   ]
  },
  {
   "cell_type": "code",
   "execution_count": 17,
   "id": "21ca702c",
   "metadata": {},
   "outputs": [],
   "source": [
    "df.to_csv('BTC_TWEETS_PROCESSED.csv')"
   ]
  },
  {
   "cell_type": "code",
   "execution_count": null,
   "id": "93c36db8",
   "metadata": {},
   "outputs": [],
   "source": []
  }
 ],
 "metadata": {
  "kernelspec": {
   "display_name": "Python 3 (ipykernel)",
   "language": "python",
   "name": "python3"
  },
  "language_info": {
   "codemirror_mode": {
    "name": "ipython",
    "version": 3
   },
   "file_extension": ".py",
   "mimetype": "text/x-python",
   "name": "python",
   "nbconvert_exporter": "python",
   "pygments_lexer": "ipython3",
   "version": "3.9.7"
  }
 },
 "nbformat": 4,
 "nbformat_minor": 5
}
