{
 "cells": [
  {
   "cell_type": "code",
   "execution_count": 1,
   "id": "948a9106",
   "metadata": {},
   "outputs": [],
   "source": [
    "import os\n",
    "import numpy as np\n",
    "import pandas as pd\n",
    "import flair\n",
    "import datetime\n",
    "from textblob import TextBlob\n",
    "from vaderSentiment.vaderSentiment import SentimentIntensityAnalyzer\n",
    "from tqdm import tnrange, tqdm_notebook, tqdm"
   ]
  },
  {
   "cell_type": "code",
   "execution_count": 2,
   "id": "2acd3387",
   "metadata": {},
   "outputs": [],
   "source": [
    "df = pd.read_csv('reddit_data_Bitcoin.csv')"
   ]
  },
  {
   "cell_type": "code",
   "execution_count": 3,
   "id": "789d77ab",
   "metadata": {},
   "outputs": [],
   "source": [
    "df = df[['title','selftext','publish_date']]\n",
    "df['date'] = df['publish_date']\n",
    "df.drop('publish_date',axis=1,inplace=True)\n",
    "df = df.fillna('')\n",
    "df['text'] = df['title'] + ' ' + df['selftext']\n",
    "df.set_index('date', inplace=True)"
   ]
  },
  {
   "cell_type": "code",
   "execution_count": 4,
   "id": "7a190ed8",
   "metadata": {},
   "outputs": [],
   "source": [
    "df.drop(['title','selftext'], axis=1, inplace=True)"
   ]
  },
  {
   "cell_type": "code",
   "execution_count": 5,
   "id": "9ab2513a",
   "metadata": {},
   "outputs": [
    {
     "name": "stdout",
     "output_type": "stream",
     "text": [
      "2022-05-03 13:02:05,017 loading file C:\\Users\\mpmur\\.flair\\models\\sentiment-en-mix-distillbert_4.pt\n"
     ]
    }
   ],
   "source": [
    "flair_sentiment = flair.models.TextClassifier.load('en-sentiment')\n",
    "fmt = '%Y-%m-%d %H:00:00'\n",
    "vader = SentimentIntensityAnalyzer()"
   ]
  },
  {
   "cell_type": "code",
   "execution_count": 6,
   "id": "6523df1b",
   "metadata": {},
   "outputs": [],
   "source": [
    "def sentiment_val_flair(flair_tag,flair_score):\n",
    "    neg = 'NEGATIVE' in flair_tag\n",
    "    val = float(flair_score)\n",
    "    if neg:\n",
    "        return -val\n",
    "    return val"
   ]
  },
  {
   "cell_type": "code",
   "execution_count": 7,
   "id": "6eb2e200",
   "metadata": {},
   "outputs": [],
   "source": [
    "def get_sentiment_report(df):\n",
    "    tb_sentiment_polarity_ = []\n",
    "    tb_sentiment_subjectivity_ = []\n",
    "    flair_sentiment_ = []\n",
    "    pos_ = []\n",
    "    neg_ = []\n",
    "    neu_ = []\n",
    "    com_ = []\n",
    "    for i,j in enumerate(tqdm(df['text'])):\n",
    "        v = vader.polarity_scores(j)\n",
    "        pos_.append(v['pos'])\n",
    "        neg_.append(v['neg'])\n",
    "        neu_.append(v['neu'])\n",
    "        com_.append(v['compound'])\n",
    "        flair_s = flair.data.Sentence(j)\n",
    "        flair_sentiment.predict(flair_s)\n",
    "        flair_tag = flair_s.tag\n",
    "        flair_score = flair_s.score\n",
    "        flair_val = sentiment_val_flair(flair_tag,flair_score)\n",
    "        flair_sentiment_.append(flair_val)\n",
    "        tb_sentiment_polarity_.append(TextBlob(j).sentiment[0])\n",
    "        tb_sentiment_subjectivity_.append(TextBlob(j).sentiment[1])\n",
    "        \n",
    "    \n",
    "    df['Reddit_Flair'] = flair_sentiment_\n",
    "    df['Reddit_TB_Polarity'] = tb_sentiment_polarity_\n",
    "    df['Reddit_TB_Subjectivity'] = tb_sentiment_subjectivity_\n",
    "    df['Reddit_Vader_Pos'] = pos_\n",
    "    df['Reddit_Vader_Neg'] = neg_\n",
    "    df['Reddit_Vader_Neu'] = neu_\n",
    "    df['Reddit_Vader_Compound'] = com_\n",
    "    df.to_csv('Reddit_Sentiment_BTC.csv')"
   ]
  },
  {
   "cell_type": "code",
   "execution_count": 8,
   "id": "6698a305",
   "metadata": {},
   "outputs": [
    {
     "name": "stderr",
     "output_type": "stream",
     "text": [
      "100%|██████████████████████████████████████████████████████████████████████████████| 7697/7697 [12:28<00:00, 10.28it/s]\n"
     ]
    }
   ],
   "source": [
    "get_sentiment_report(df)"
   ]
  },
  {
   "cell_type": "code",
   "execution_count": null,
   "id": "c1687090",
   "metadata": {},
   "outputs": [],
   "source": []
  }
 ],
 "metadata": {
  "kernelspec": {
   "display_name": "Python 3 (ipykernel)",
   "language": "python",
   "name": "python3"
  },
  "language_info": {
   "codemirror_mode": {
    "name": "ipython",
    "version": 3
   },
   "file_extension": ".py",
   "mimetype": "text/x-python",
   "name": "python",
   "nbconvert_exporter": "python",
   "pygments_lexer": "ipython3",
   "version": "3.9.7"
  }
 },
 "nbformat": 4,
 "nbformat_minor": 5
}
