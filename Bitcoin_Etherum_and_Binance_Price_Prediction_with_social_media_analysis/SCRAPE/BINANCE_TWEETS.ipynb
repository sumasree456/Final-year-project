{
 "cells": [
  {
   "cell_type": "code",
   "execution_count": null,
   "id": "c0244fde",
   "metadata": {},
   "outputs": [],
   "source": [
    "date_interval_1 = [\"2022-01-01\",\"2022-01-02\",\"2022-01-03\",\"2022-01-04\",\"2022-01-05\",\"2022-01-06\",\"2022-01-07\",\"2022-01-08\",\"2022-01-09\",\"2022-01-10\",\"2022-01-11\",\"2022-01-12\",\"2022-01-13\",\"2022-01-14\",\"2022-01-15\",\"2022-01-16\",\"2022-01-17\",\"2022-01-18\",\"2022-01-19\",\"2022-01-20\",\"2022-01-21\",\"2022-01-22\",\"2022-01-23\",\"2022-01-24\",\"2022-01-25\",\"2022-01-26\",\"2022-01-27\",\"2022-01-28\",\"2022-01-29\",\"2022-01-30\",\"2021-01-31\",\"2022-02-01\",\"2022-02-02\",\"2022-02-03\",\"2022-02-04\",\"2022-02-05\",\"2022-02-06\",\"2022-02-07\",\"2022-02-08\",\"2022-02-09\",\"2022-02-10\",\"2022-02-11\",\"2022-02-12\",\"2022-02-13\",\"2022-02-14\",\"2022-02-15\",\"2022-02-16\",\"2022-02-17\",\"2022-02-18\",\"2022-02-19\",\"2022-02-20\",\"2022-02-21\",\"2022-02-22\",\"2022-02-23\",\"2022-02-24\",\"2022-02-25\",\"2022-02-26\",\"2022-02-27\",\"2022-02-28\",\"2022-03-01\",\"2022-03-02\",\"2022-03-03\",\"2022-03-04\",\"2022-03-05\",\"2022-03-06\",\"2022-03-07\",\"2022-03-08\",\"2022-03-09\",\"2022-03-10\",\"2022-03-11\",\"2022-03-12\",\"2022-03-13\",\"2022-03-14\",\"2022-03-15\",\"2022-03-16\",\"2022-03-17\",\"2022-03-18\",\"2022-03-19\",\"2022-03-20\",\"2022-03-21\",\"2022-03-22\",\"2022-03-23\",\"2022-03-24\",\"2022-03-25\",\"2022-03-26\",\"2022-03-27\",\"2022-03-28\",\"2022-03-29\",\"2022-03-30\",\"2021-03-31\"]"
   ]
  },
  {
   "cell_type": "code",
   "execution_count": null,
   "id": "61337b71",
   "metadata": {},
   "outputs": [],
   "source": [
    "import snscrape.modules.twitter as sntwitter\n",
    "import pandas as pd\n",
    "tweets_list1 = []\n",
    "# Using TwitterSearchScraper to scrape data and append tweets to list\n",
    "for t in range(len(date_interval_1)-1):\n",
    "    for i,tweet in enumerate(sntwitter.TwitterSearchScraper(f'Binance since:{date_interval_1[t]} until:{date_interval_1[t+1]} min_faves:1 exclude:retweets').get_items()):\n",
    "        if i>28800:\n",
    "            break\n",
    "        tweets_list1.append([tweet.date, tweet.id, tweet.content,tweet.user.username,tweet.hashtags,tweet.lang,tweet.likeCount,tweet.retweetCount])\n",
    "    print(date_interval_1[t],'completed')"
   ]
  },
  {
   "cell_type": "code",
   "execution_count": null,
   "id": "23aa2f0d",
   "metadata": {},
   "outputs": [],
   "source": [
    "tweets = pd.DataFrame(tweets_list1,columns=['Datetime','Tweet Id','Text','Username','hashtags','lang','likeCount','retweetCount'])\n",
    "tweets.to_csv('BINANCE_TWEETS.csv')"
   ]
  },
  {
   "cell_type": "code",
   "execution_count": null,
   "id": "afcb2450",
   "metadata": {},
   "outputs": [],
   "source": []
  }
 ],
 "metadata": {
  "kernelspec": {
   "display_name": "Python 3 (ipykernel)",
   "language": "python",
   "name": "python3"
  },
  "language_info": {
   "codemirror_mode": {
    "name": "ipython",
    "version": 3
   },
   "file_extension": ".py",
   "mimetype": "text/x-python",
   "name": "python",
   "nbconvert_exporter": "python",
   "pygments_lexer": "ipython3",
   "version": "3.9.7"
  }
 },
 "nbformat": 4,
 "nbformat_minor": 5
}
