{
 "cells": [
  {
   "cell_type": "code",
   "execution_count": 1,
   "id": "dfc8a0d7",
   "metadata": {},
   "outputs": [],
   "source": [
    "import numpy as np\n",
    "import pandas as pd\n",
    "import matplotlib.pyplot as plt\n",
    "import math\n",
    "import time\n",
    "import datetime\n",
    "from dateutil import parser\n",
    "from sklearn.preprocessing import MinMaxScaler\n",
    "from sklearn.metrics import mean_squared_error\n",
    "from keras.models import Sequential\n",
    "from keras.layers import Dense\n",
    "from keras.layers import LSTM"
   ]
  },
  {
   "cell_type": "code",
   "execution_count": 3,
   "id": "0e822568",
   "metadata": {},
   "outputs": [],
   "source": [
    "df = pd.read_csv('BNB_TWEET_PROCESSED.csv')"
   ]
  },
  {
   "cell_type": "code",
   "execution_count": 4,
   "id": "a5d260f4",
   "metadata": {},
   "outputs": [
    {
     "data": {
      "text/html": [
       "<div>\n",
       "<style scoped>\n",
       "    .dataframe tbody tr th:only-of-type {\n",
       "        vertical-align: middle;\n",
       "    }\n",
       "\n",
       "    .dataframe tbody tr th {\n",
       "        vertical-align: top;\n",
       "    }\n",
       "\n",
       "    .dataframe thead th {\n",
       "        text-align: right;\n",
       "    }\n",
       "</style>\n",
       "<table border=\"1\" class=\"dataframe\">\n",
       "  <thead>\n",
       "    <tr style=\"text-align: right;\">\n",
       "      <th></th>\n",
       "      <th>Unnamed: 0</th>\n",
       "      <th>Date</th>\n",
       "      <th>text</th>\n",
       "      <th>likeCount</th>\n",
       "      <th>retweetCount</th>\n",
       "      <th>compound</th>\n",
       "      <th>pos</th>\n",
       "      <th>neg</th>\n",
       "      <th>neu</th>\n",
       "      <th>Twitter_Flair</th>\n",
       "      <th>Twitter_TB_Polarity</th>\n",
       "      <th>Twitter_TB_Subjectivity</th>\n",
       "    </tr>\n",
       "  </thead>\n",
       "  <tbody>\n",
       "    <tr>\n",
       "      <th>0</th>\n",
       "      <td>0</td>\n",
       "      <td>2022-01-01 23:59:12+00:00</td>\n",
       "      <td>@TheMoonCarl @kasta_app @cz_binance Where can ...</td>\n",
       "      <td>1</td>\n",
       "      <td>0</td>\n",
       "      <td>0.000</td>\n",
       "      <td>0.000</td>\n",
       "      <td>0.0</td>\n",
       "      <td>1.000</td>\n",
       "      <td>0.671279</td>\n",
       "      <td>0.0000</td>\n",
       "      <td>0.0</td>\n",
       "    </tr>\n",
       "    <tr>\n",
       "      <th>1</th>\n",
       "      <td>1</td>\n",
       "      <td>2022-01-01 23:59:10+00:00</td>\n",
       "      <td>BTC diamond reversal and expected volatility f...</td>\n",
       "      <td>1</td>\n",
       "      <td>0</td>\n",
       "      <td>0.340</td>\n",
       "      <td>0.167</td>\n",
       "      <td>0.0</td>\n",
       "      <td>0.833</td>\n",
       "      <td>-0.894867</td>\n",
       "      <td>-0.1000</td>\n",
       "      <td>0.4</td>\n",
       "    </tr>\n",
       "    <tr>\n",
       "      <th>2</th>\n",
       "      <td>2</td>\n",
       "      <td>2022-01-01 23:59:10+00:00</td>\n",
       "      <td>@Dustin62025548 @binance @CEEK</td>\n",
       "      <td>1</td>\n",
       "      <td>0</td>\n",
       "      <td>0.000</td>\n",
       "      <td>0.000</td>\n",
       "      <td>0.0</td>\n",
       "      <td>1.000</td>\n",
       "      <td>0.938796</td>\n",
       "      <td>0.0000</td>\n",
       "      <td>0.0</td>\n",
       "    </tr>\n",
       "    <tr>\n",
       "      <th>3</th>\n",
       "      <td>3</td>\n",
       "      <td>2022-01-01 23:58:56+00:00</td>\n",
       "      <td>@MusadiqBabydoge @BabyDogeCoin @cz_binance @el...</td>\n",
       "      <td>1</td>\n",
       "      <td>0</td>\n",
       "      <td>0.658</td>\n",
       "      <td>0.523</td>\n",
       "      <td>0.0</td>\n",
       "      <td>0.477</td>\n",
       "      <td>0.997967</td>\n",
       "      <td>0.9375</td>\n",
       "      <td>0.9</td>\n",
       "    </tr>\n",
       "    <tr>\n",
       "      <th>4</th>\n",
       "      <td>4</td>\n",
       "      <td>2022-01-01 23:58:49+00:00</td>\n",
       "      <td>@cz_binance $KDA</td>\n",
       "      <td>3</td>\n",
       "      <td>1</td>\n",
       "      <td>0.000</td>\n",
       "      <td>0.000</td>\n",
       "      <td>0.0</td>\n",
       "      <td>1.000</td>\n",
       "      <td>-0.911692</td>\n",
       "      <td>0.0000</td>\n",
       "      <td>0.0</td>\n",
       "    </tr>\n",
       "  </tbody>\n",
       "</table>\n",
       "</div>"
      ],
      "text/plain": [
       "   Unnamed: 0                       Date  \\\n",
       "0           0  2022-01-01 23:59:12+00:00   \n",
       "1           1  2022-01-01 23:59:10+00:00   \n",
       "2           2  2022-01-01 23:59:10+00:00   \n",
       "3           3  2022-01-01 23:58:56+00:00   \n",
       "4           4  2022-01-01 23:58:49+00:00   \n",
       "\n",
       "                                                text  likeCount  retweetCount  \\\n",
       "0  @TheMoonCarl @kasta_app @cz_binance Where can ...          1             0   \n",
       "1  BTC diamond reversal and expected volatility f...          1             0   \n",
       "2                     @Dustin62025548 @binance @CEEK          1             0   \n",
       "3  @MusadiqBabydoge @BabyDogeCoin @cz_binance @el...          1             0   \n",
       "4                                   @cz_binance $KDA          3             1   \n",
       "\n",
       "   compound    pos  neg    neu  Twitter_Flair  Twitter_TB_Polarity  \\\n",
       "0     0.000  0.000  0.0  1.000       0.671279               0.0000   \n",
       "1     0.340  0.167  0.0  0.833      -0.894867              -0.1000   \n",
       "2     0.000  0.000  0.0  1.000       0.938796               0.0000   \n",
       "3     0.658  0.523  0.0  0.477       0.997967               0.9375   \n",
       "4     0.000  0.000  0.0  1.000      -0.911692               0.0000   \n",
       "\n",
       "   Twitter_TB_Subjectivity  \n",
       "0                      0.0  \n",
       "1                      0.4  \n",
       "2                      0.0  \n",
       "3                      0.9  \n",
       "4                      0.0  "
      ]
     },
     "execution_count": 4,
     "metadata": {},
     "output_type": "execute_result"
    }
   ],
   "source": [
    "df.head()"
   ]
  },
  {
   "cell_type": "code",
   "execution_count": 8,
   "id": "5c6083a1",
   "metadata": {},
   "outputs": [
    {
     "data": {
      "text/html": [
       "<div>\n",
       "<style scoped>\n",
       "    .dataframe tbody tr th:only-of-type {\n",
       "        vertical-align: middle;\n",
       "    }\n",
       "\n",
       "    .dataframe tbody tr th {\n",
       "        vertical-align: top;\n",
       "    }\n",
       "\n",
       "    .dataframe thead th {\n",
       "        text-align: right;\n",
       "    }\n",
       "</style>\n",
       "<table border=\"1\" class=\"dataframe\">\n",
       "  <thead>\n",
       "    <tr style=\"text-align: right;\">\n",
       "      <th></th>\n",
       "      <th>unix</th>\n",
       "      <th>date</th>\n",
       "      <th>symbol</th>\n",
       "      <th>open</th>\n",
       "      <th>high</th>\n",
       "      <th>low</th>\n",
       "      <th>close</th>\n",
       "      <th>Volume BNB</th>\n",
       "      <th>Volume USDT</th>\n",
       "      <th>tradecount</th>\n",
       "    </tr>\n",
       "  </thead>\n",
       "  <tbody>\n",
       "    <tr>\n",
       "      <th>0</th>\n",
       "      <td>1648681200000</td>\n",
       "      <td>2022-03-30 23:00:00</td>\n",
       "      <td>BNB/USDT</td>\n",
       "      <td>443.1</td>\n",
       "      <td>444.1</td>\n",
       "      <td>441.6</td>\n",
       "      <td>442.1</td>\n",
       "      <td>28447.377</td>\n",
       "      <td>1.260756e+07</td>\n",
       "      <td>11376</td>\n",
       "    </tr>\n",
       "    <tr>\n",
       "      <th>1</th>\n",
       "      <td>1648677600000</td>\n",
       "      <td>2022-03-30 22:00:00</td>\n",
       "      <td>BNB/USDT</td>\n",
       "      <td>442.7</td>\n",
       "      <td>443.6</td>\n",
       "      <td>441.0</td>\n",
       "      <td>443.1</td>\n",
       "      <td>20493.516</td>\n",
       "      <td>9.067476e+06</td>\n",
       "      <td>13292</td>\n",
       "    </tr>\n",
       "    <tr>\n",
       "      <th>2</th>\n",
       "      <td>1648674000000</td>\n",
       "      <td>2022-03-30 21:00:00</td>\n",
       "      <td>BNB/USDT</td>\n",
       "      <td>446.2</td>\n",
       "      <td>446.3</td>\n",
       "      <td>441.5</td>\n",
       "      <td>442.6</td>\n",
       "      <td>29578.972</td>\n",
       "      <td>1.311486e+07</td>\n",
       "      <td>16727</td>\n",
       "    </tr>\n",
       "    <tr>\n",
       "      <th>3</th>\n",
       "      <td>1648670400000</td>\n",
       "      <td>2022-03-30 20:00:00</td>\n",
       "      <td>BNB/USDT</td>\n",
       "      <td>444.8</td>\n",
       "      <td>446.6</td>\n",
       "      <td>444.3</td>\n",
       "      <td>446.2</td>\n",
       "      <td>23738.269</td>\n",
       "      <td>1.057612e+07</td>\n",
       "      <td>14162</td>\n",
       "    </tr>\n",
       "    <tr>\n",
       "      <th>4</th>\n",
       "      <td>1648666800000</td>\n",
       "      <td>2022-03-30 19:00:00</td>\n",
       "      <td>BNB/USDT</td>\n",
       "      <td>445.2</td>\n",
       "      <td>445.8</td>\n",
       "      <td>441.8</td>\n",
       "      <td>444.8</td>\n",
       "      <td>35564.184</td>\n",
       "      <td>1.578383e+07</td>\n",
       "      <td>20509</td>\n",
       "    </tr>\n",
       "  </tbody>\n",
       "</table>\n",
       "</div>"
      ],
      "text/plain": [
       "            unix                date    symbol   open   high    low  close  \\\n",
       "0  1648681200000 2022-03-30 23:00:00  BNB/USDT  443.1  444.1  441.6  442.1   \n",
       "1  1648677600000 2022-03-30 22:00:00  BNB/USDT  442.7  443.6  441.0  443.1   \n",
       "2  1648674000000 2022-03-30 21:00:00  BNB/USDT  446.2  446.3  441.5  442.6   \n",
       "3  1648670400000 2022-03-30 20:00:00  BNB/USDT  444.8  446.6  444.3  446.2   \n",
       "4  1648666800000 2022-03-30 19:00:00  BNB/USDT  445.2  445.8  441.8  444.8   \n",
       "\n",
       "   Volume BNB   Volume USDT  tradecount  \n",
       "0   28447.377  1.260756e+07       11376  \n",
       "1   20493.516  9.067476e+06       13292  \n",
       "2   29578.972  1.311486e+07       16727  \n",
       "3   23738.269  1.057612e+07       14162  \n",
       "4   35564.184  1.578383e+07       20509  "
      ]
     },
     "execution_count": 8,
     "metadata": {},
     "output_type": "execute_result"
    }
   ],
   "source": [
    "df1 = pd.read_excel('BNB_CRYPTO.xlsx')\n",
    "df1.head()"
   ]
  },
  {
   "cell_type": "code",
   "execution_count": 9,
   "id": "47044f6b",
   "metadata": {},
   "outputs": [],
   "source": [
    "df['date'] = pd.to_datetime(df['Date'])\n",
    "df['date'] = df['date'].dt.strftime('%y-%m-%d-%H')\n",
    "df1['date'] = df1['date'].dt.strftime('%y-%m-%d-%H')"
   ]
  },
  {
   "cell_type": "code",
   "execution_count": 10,
   "id": "ea6a218a",
   "metadata": {},
   "outputs": [],
   "source": [
    "#merge = [df,df1]\n",
    "#merge = pd.concat(merge)\n",
    "merge = pd.merge(df,df1,on='date')\n",
    "merge.set_index('date',inplace=True)\n",
    "merge.sort_values(by='date',inplace=True)"
   ]
  },
  {
   "cell_type": "code",
   "execution_count": 12,
   "id": "abb7f6ea",
   "metadata": {},
   "outputs": [],
   "source": [
    "merge.drop('Unnamed: 0',axis=1,inplace=True)\n",
    "merge.drop('unix',axis=1,inplace=True)\n",
    "merge.drop('symbol',axis=1,inplace=True)\n",
    "merge.drop('text',axis=1,inplace=True)\n",
    "merge.drop('Date',axis=1,inplace=True)\n",
    "#df.drop('Text',axis=1,inplace=True)"
   ]
  },
  {
   "cell_type": "code",
   "execution_count": 13,
   "id": "6896e2c5",
   "metadata": {},
   "outputs": [
    {
     "name": "stdout",
     "output_type": "stream",
     "text": [
      "Number of features 16\n"
     ]
    }
   ],
   "source": [
    "dataset = merge.values\n",
    "dataset = dataset.astype('float32')\n",
    "scaler = MinMaxScaler(feature_range=(0, 1))\n",
    "dataset = scaler.fit_transform(dataset)\n",
    "#print('dataset.shape', dataset.shape)\n",
    "num_of_features = len(merge.columns)\n",
    "print('Number of features', num_of_features)"
   ]
  },
  {
   "cell_type": "code",
   "execution_count": 14,
   "id": "72eeece4",
   "metadata": {},
   "outputs": [],
   "source": [
    "expr_name = 'expr_6'\n",
    "look_back = 24*7 \n",
    "#lstm_layers = 50\n",
    "epochs=5\n",
    "batch_size=128"
   ]
  },
  {
   "cell_type": "code",
   "execution_count": 15,
   "id": "d6b7a0b3",
   "metadata": {},
   "outputs": [
    {
     "name": "stdout",
     "output_type": "stream",
     "text": [
      "Training dataset length  398997\n",
      "Testing dataset length  171000\n",
      "look_back  168\n"
     ]
    }
   ],
   "source": [
    "train_size_percent = 0.70\n",
    "pred_col = merge.columns.get_loc('close')\n",
    "\n",
    "# function to split the data\n",
    "def create_dataset(dataset, pred_col, look_back=1):\n",
    "    dataX, dataY = [], []\n",
    "    for i in range(len(dataset)-look_back-1):\n",
    "        a = dataset[i:(i+look_back), :]\n",
    "        dataX.append(a)\n",
    "        dataY.append(dataset[i + look_back, pred_col])\n",
    "    return np.array(dataX), np.array(dataY)\n",
    "\n",
    "\n",
    "train_size = int(len(dataset) * train_size_percent)\n",
    "test_size = len(dataset) - train_size\n",
    "train, test = dataset[0:train_size, :], dataset[train_size:len(dataset), :]\n",
    "\n",
    "trainX, trainY = create_dataset(train, pred_col, look_back=look_back)\n",
    "testX, testY = create_dataset(test, pred_col, look_back=look_back)\n",
    "# reshape input to be  [samples, time steps, features]\n",
    "trainX = np.reshape(trainX, (trainX.shape[0], look_back, num_of_features))\n",
    "testX = np.reshape(testX, (testX.shape[0],look_back, num_of_features))\n",
    "\n",
    "print('Training dataset length ', len(train))\n",
    "print('Testing dataset length ', len(test))\n",
    "print('look_back ', look_back)"
   ]
  },
  {
   "cell_type": "code",
   "execution_count": null,
   "id": "73bdf0a3",
   "metadata": {},
   "outputs": [],
   "source": [
    "print(trainX.shape)"
   ]
  },
  {
   "cell_type": "code",
   "execution_count": 16,
   "id": "40758941",
   "metadata": {},
   "outputs": [
    {
     "name": "stdout",
     "output_type": "stream",
     "text": [
      "Epoch 1/5\n",
      "2493/2493 [==============================] - 178s 71ms/step - loss: 0.0046 - val_loss: 0.0256\n",
      "Epoch 2/5\n",
      "2493/2493 [==============================] - 197s 79ms/step - loss: 7.5999e-04 - val_loss: 0.0310\n",
      "Epoch 3/5\n",
      "2493/2493 [==============================] - 196s 78ms/step - loss: 9.0485e-04 - val_loss: 0.0315\n",
      "Epoch 4/5\n",
      "2493/2493 [==============================] - 196s 79ms/step - loss: 0.0011 - val_loss: 0.0333\n",
      "Epoch 5/5\n",
      "2493/2493 [==============================] - 186s 75ms/step - loss: 0.0012 - val_loss: 0.0317\n"
     ]
    }
   ],
   "source": [
    "model = Sequential()\n",
    "model.add(LSTM(32,input_shape=(look_back,num_of_features)))\n",
    "#model.add(LSTM(100,activation='relu',return_sequences=True))\n",
    "#model.add(LSTM(50,activation='relu',return_sequences=True))\n",
    "#model.add(LSTM(25,activation='relu'))\n",
    "#model.add(LSTM(20,activation='relu'))\n",
    "#model.add(LSTM(10,activation='relu'))\n",
    "model.add(Dense(1))\n",
    "model.compile(loss='mean_squared_error', optimizer='adam')\n",
    "history= model.fit(trainX, trainY,validation_split=0.20, epochs=epochs, batch_size=batch_size,shuffle=False)"
   ]
  },
  {
   "cell_type": "code",
   "execution_count": 17,
   "id": "edc06568",
   "metadata": {},
   "outputs": [
    {
     "data": {
      "image/png": "[encoded data removed]",
      "text/plain": [
       "<Figure size 432x288 with 1 Axes>"
      ]
     },
     "metadata": {
      "needs_background": "light"
     },
     "output_type": "display_data"
    }
   ],
   "source": [
    "# Plot training\n",
    "plt.plot(history.history['loss'])\n",
    "plt.plot(history.history['val_loss'])\n",
    "plt.title('Model loss')\n",
    "plt.ylabel('Loss')\n",
    "plt.xlabel('Epoch')\n",
    "plt.legend(['training','validation'], loc='upper right')\n",
    "plt.show()"
   ]
  },
  {
   "cell_type": "code",
   "execution_count": 19,
   "id": "4b9315db",
   "metadata": {},
   "outputs": [],
   "source": [
    "trainPredict = model.predict(trainX)\n",
    "testPredict = model.predict(testX)\n",
    "\n",
    "# Get something which has as many features as dataset\n",
    "trainPredict_extended = np.zeros((len(trainPredict),num_of_features))\n",
    "# Put the predictions there\n",
    "trainPredict_extended[:,pred_col] = trainPredict[:,0]\n",
    "# Inverse transform it and select the 3rd column.\n",
    "trainPredict = scaler.inverse_transform(trainPredict_extended) [:,pred_col]\n",
    "\n",
    "# Get something which has as many features as dataset\n",
    "testPredict_extended = np.zeros((len(testPredict),num_of_features))\n",
    "# Put the predictions there\n",
    "testPredict_extended[:,pred_col] = testPredict[:,0]\n",
    "# Inverse transform it and select the pred_col column.\n",
    "testPredict = scaler.inverse_transform(testPredict_extended)[:,pred_col] \n",
    "\n",
    "trainY_extended = np.zeros((len(trainY),num_of_features))\n",
    "trainY_extended[:,pred_col]=trainY\n",
    "trainY = scaler.inverse_transform(trainY_extended)[:,pred_col]\n",
    "\n",
    "testY_extended = np.zeros((len(testY),num_of_features))\n",
    "testY_extended[:,pred_col]=testY\n",
    "testY = scaler.inverse_transform(testY_extended)[:,pred_col]\n",
    "\n",
    "# calculate root mean squared error\n",
    "trainScore_RMSE = math.sqrt(mean_squared_error(trainY, trainPredict))\n",
    "testScore_RMSE = math.sqrt(mean_squared_error(testY, testPredict))\n",
    "\n",
    "# calculate absolute mean error\n",
    "trainScore_MAE = np.sum(np.absolute(trainY - trainPredict))/len(trainY)\n",
    "testScore_MAE = np.sum(np.absolute(testY - testPredict))/len(testY)"
   ]
  },
  {
   "cell_type": "code",
   "execution_count": 20,
   "id": "85c25b27",
   "metadata": {},
   "outputs": [
    {
     "data": {
      "image/png": "[encoded data removed]",
      "text/plain": [
       "<Figure size 1080x504 with 1 Axes>"
      ]
     },
     "metadata": {
      "needs_background": "light"
     },
     "output_type": "display_data"
    }
   ],
   "source": [
    "trainPredictPlot = np.empty_like(dataset)\n",
    "trainPredictPlot[:, :] = np.nan\n",
    "trainPredictPlot[look_back:len(trainPredict)+look_back, pred_col] = trainPredict\n",
    "\n",
    "# shift test predictions for plotting\n",
    "testPredictPlot = np.empty_like(dataset)\n",
    "testPredictPlot[:, :] = np.nan\n",
    "testPredictPlot[len(trainPredict)+(look_back*2)+1:len(dataset)-1, pred_col] = testPredict\n",
    "\n",
    "# contruct pandas dataframe for plotting\n",
    "time_df = pd.DataFrame(merge.index)\n",
    "time_df['Actual'] = scaler.inverse_transform(dataset)[:,pred_col]\n",
    "df1 = pd.DataFrame(trainPredictPlot[:,pred_col],columns=['Train'])\n",
    "df2 = pd.DataFrame(testPredictPlot[:,pred_col],columns=['Test'])\n",
    "time_df2 = pd.concat([time_df, df1, df2], axis=1, sort=True)\n",
    "time_df2.set_index('date',inplace=True)\n",
    "\n",
    "# plot the output\n",
    "fig, ax = plt.subplots(figsize=(15,7))\n",
    "time_df2.plot(ax=ax,rot=90,alpha=0.7)\n",
    "plt.xlabel('Date')\n",
    "plt.ylabel('Binance Value')\n",
    "plt.title('Binance Price Prediction')\n",
    "plt.savefig(expr_name + '.png',bbox_inches = \"tight\")"
   ]
  },
  {
   "cell_type": "code",
   "execution_count": 21,
   "id": "a86d7b28",
   "metadata": {},
   "outputs": [
    {
     "name": "stdout",
     "output_type": "stream",
     "text": [
      "----------------------------------------------------------------------------------------------------\n",
      "Experiment name: expr_6\n",
      "----------------------------------------------------------------------------------------------------\n",
      "look_back days: 7.0\n",
      "epochs: 5\n",
      "batch_size: 128\n",
      "dataset features ['likeCount', 'retweetCount', 'compound', 'pos', 'neg', 'neu', 'Twitter_Flair', 'Twitter_TB_Polarity', 'Twitter_TB_Subjectivity', 'open', 'high', 'low', 'close', 'Volume BNB', 'Volume USDT', 'tradecount']\n",
      "----------------------------------------------------------------------------------------------------\n",
      "Train Score: RMSE:  40.16442085976452\n",
      "Test Score: RMSE:  31.874804762082828\n",
      "----------------------------------------------------------------------------------------------------\n",
      "Train Score: MAE:  34.1143293748445\n",
      "Test Score: MAE:  28.283374071174137\n",
      "----------------------------------------------------------------------------------------------------\n",
      "Model summary:\n",
      "Model: \"sequential\"\n",
      "_________________________________________________________________\n",
      " Layer (type)                Output Shape              Param #   \n",
      "=================================================================\n",
      " lstm (LSTM)                 (None, 32)                6272      \n",
      "                                                                 \n",
      " dense (Dense)               (None, 1)                 33        \n",
      "                                                                 \n",
      "=================================================================\n",
      "Total params: 6,305\n",
      "Trainable params: 6,305\n",
      "Non-trainable params: 0\n",
      "_________________________________________________________________\n"
     ]
    }
   ],
   "source": [
    "print('-' * 100)\n",
    "print('Experiment name:', expr_name)\n",
    "print('-' * 100)\n",
    "print('look_back days:', look_back/24)\n",
    "#print('lstm_layers:', lstm_layers)\n",
    "print('epochs:', epochs)\n",
    "print('batch_size:', batch_size)\n",
    "print('dataset features', list(merge.columns))\n",
    "print('-' * 100)\n",
    "print('Train Score: RMSE: ',(trainScore_RMSE))\n",
    "print('Test Score: RMSE: ',(testScore_RMSE))\n",
    "print('-' * 100)\n",
    "print('Train Score: MAE: ',(trainScore_MAE))\n",
    "print('Test Score: MAE: ',(testScore_MAE))\n",
    "print('-' * 100)\n",
    "print('Model summary:')\n",
    "model.summary()"
   ]
  }
 ],
 "metadata": {
  "kernelspec": {
   "display_name": "Python 3 (ipykernel)",
   "language": "python",
   "name": "python3"
  },
  "language_info": {
   "codemirror_mode": {
    "name": "ipython",
    "version": 3
   },
   "file_extension": ".py",
   "mimetype": "text/x-python",
   "name": "python",
   "nbconvert_exporter": "python",
   "pygments_lexer": "ipython3",
   "version": "3.9.7"
  }
 },
 "nbformat": 4,
 "nbformat_minor": 5
}
