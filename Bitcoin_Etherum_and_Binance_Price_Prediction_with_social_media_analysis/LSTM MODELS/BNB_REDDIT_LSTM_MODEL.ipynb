{
 "cells": [
  {
   "cell_type": "code",
   "execution_count": 1,
   "id": "263b9460",
   "metadata": {},
   "outputs": [],
   "source": [
    "import numpy as np\n",
    "import pandas as pd\n",
    "import matplotlib.pyplot as plt\n",
    "import math\n",
    "import time\n",
    "import datetime\n",
    "from dateutil import parser\n",
    "from sklearn.preprocessing import MinMaxScaler\n",
    "from sklearn.metrics import mean_squared_error\n",
    "from keras.models import Sequential\n",
    "from keras.layers import Dense\n",
    "from keras.layers import LSTM"
   ]
  },
  {
   "cell_type": "code",
   "execution_count": 3,
   "id": "110790ab",
   "metadata": {},
   "outputs": [
    {
     "data": {
      "text/html": [
       "<div>\n",
       "<style scoped>\n",
       "    .dataframe tbody tr th:only-of-type {\n",
       "        vertical-align: middle;\n",
       "    }\n",
       "\n",
       "    .dataframe tbody tr th {\n",
       "        vertical-align: top;\n",
       "    }\n",
       "\n",
       "    .dataframe thead th {\n",
       "        text-align: right;\n",
       "    }\n",
       "</style>\n",
       "<table border=\"1\" class=\"dataframe\">\n",
       "  <thead>\n",
       "    <tr style=\"text-align: right;\">\n",
       "      <th></th>\n",
       "      <th>date</th>\n",
       "      <th>text</th>\n",
       "      <th>Reddit_Flair</th>\n",
       "      <th>Reddit_TB_Polarity</th>\n",
       "      <th>Reddit_TB_Subjectivity</th>\n",
       "      <th>Reddit_Vader_Pos</th>\n",
       "      <th>Reddit_Vader_Neg</th>\n",
       "      <th>Reddit_Vader_Neu</th>\n",
       "      <th>Reddit_Vader_Compound</th>\n",
       "    </tr>\n",
       "  </thead>\n",
       "  <tbody>\n",
       "    <tr>\n",
       "      <th>0</th>\n",
       "      <td>2022-01-01 00:04:39</td>\n",
       "      <td>Transferring ADA back to Binance from Binance ...</td>\n",
       "      <td>-0.999990</td>\n",
       "      <td>-0.010119</td>\n",
       "      <td>0.290377</td>\n",
       "      <td>0.021</td>\n",
       "      <td>0.094</td>\n",
       "      <td>0.885</td>\n",
       "      <td>-0.7707</td>\n",
       "    </tr>\n",
       "    <tr>\n",
       "      <th>1</th>\n",
       "      <td>2022-01-01 00:07:44</td>\n",
       "      <td>IPad Binance App</td>\n",
       "      <td>0.860817</td>\n",
       "      <td>0.000000</td>\n",
       "      <td>0.000000</td>\n",
       "      <td>0.000</td>\n",
       "      <td>0.000</td>\n",
       "      <td>1.000</td>\n",
       "      <td>0.0000</td>\n",
       "    </tr>\n",
       "    <tr>\n",
       "      <th>2</th>\n",
       "      <td>2022-01-01 00:08:44</td>\n",
       "      <td>Have you ever sent coins from Metamask into th...</td>\n",
       "      <td>-0.998341</td>\n",
       "      <td>0.250000</td>\n",
       "      <td>0.333333</td>\n",
       "      <td>0.000</td>\n",
       "      <td>0.000</td>\n",
       "      <td>1.000</td>\n",
       "      <td>0.0000</td>\n",
       "    </tr>\n",
       "    <tr>\n",
       "      <th>3</th>\n",
       "      <td>2022-01-01 00:28:52</td>\n",
       "      <td>Binance has closed its China market, will this...</td>\n",
       "      <td>-0.997731</td>\n",
       "      <td>-0.100000</td>\n",
       "      <td>0.100000</td>\n",
       "      <td>0.000</td>\n",
       "      <td>0.000</td>\n",
       "      <td>1.000</td>\n",
       "      <td>0.0000</td>\n",
       "    </tr>\n",
       "    <tr>\n",
       "      <th>4</th>\n",
       "      <td>2022-01-01 01:01:44</td>\n",
       "      <td>Ontario securities regulator slams Binance aft...</td>\n",
       "      <td>-0.995651</td>\n",
       "      <td>0.000000</td>\n",
       "      <td>0.000000</td>\n",
       "      <td>0.145</td>\n",
       "      <td>0.000</td>\n",
       "      <td>0.855</td>\n",
       "      <td>0.2960</td>\n",
       "    </tr>\n",
       "  </tbody>\n",
       "</table>\n",
       "</div>"
      ],
      "text/plain": [
       "                  date                                               text  \\\n",
       "0  2022-01-01 00:04:39  Transferring ADA back to Binance from Binance ...   \n",
       "1  2022-01-01 00:07:44                                  IPad Binance App    \n",
       "2  2022-01-01 00:08:44  Have you ever sent coins from Metamask into th...   \n",
       "3  2022-01-01 00:28:52  Binance has closed its China market, will this...   \n",
       "4  2022-01-01 01:01:44  Ontario securities regulator slams Binance aft...   \n",
       "\n",
       "   Reddit_Flair  Reddit_TB_Polarity  Reddit_TB_Subjectivity  Reddit_Vader_Pos  \\\n",
       "0     -0.999990           -0.010119                0.290377             0.021   \n",
       "1      0.860817            0.000000                0.000000             0.000   \n",
       "2     -0.998341            0.250000                0.333333             0.000   \n",
       "3     -0.997731           -0.100000                0.100000             0.000   \n",
       "4     -0.995651            0.000000                0.000000             0.145   \n",
       "\n",
       "   Reddit_Vader_Neg  Reddit_Vader_Neu  Reddit_Vader_Compound  \n",
       "0             0.094             0.885                -0.7707  \n",
       "1             0.000             1.000                 0.0000  \n",
       "2             0.000             1.000                 0.0000  \n",
       "3             0.000             1.000                 0.0000  \n",
       "4             0.000             0.855                 0.2960  "
      ]
     },
     "execution_count": 3,
     "metadata": {},
     "output_type": "execute_result"
    }
   ],
   "source": [
    "df = pd.read_csv('Reddit_Sentiment_BNB.csv')\n",
    "df.head()"
   ]
  },
  {
   "cell_type": "code",
   "execution_count": 4,
   "id": "3feee64f",
   "metadata": {},
   "outputs": [
    {
     "data": {
      "text/html": [
       "<div>\n",
       "<style scoped>\n",
       "    .dataframe tbody tr th:only-of-type {\n",
       "        vertical-align: middle;\n",
       "    }\n",
       "\n",
       "    .dataframe tbody tr th {\n",
       "        vertical-align: top;\n",
       "    }\n",
       "\n",
       "    .dataframe thead th {\n",
       "        text-align: right;\n",
       "    }\n",
       "</style>\n",
       "<table border=\"1\" class=\"dataframe\">\n",
       "  <thead>\n",
       "    <tr style=\"text-align: right;\">\n",
       "      <th></th>\n",
       "      <th>unix</th>\n",
       "      <th>date</th>\n",
       "      <th>symbol</th>\n",
       "      <th>open</th>\n",
       "      <th>high</th>\n",
       "      <th>low</th>\n",
       "      <th>close</th>\n",
       "      <th>Volume BNB</th>\n",
       "      <th>Volume USDT</th>\n",
       "      <th>tradecount</th>\n",
       "    </tr>\n",
       "  </thead>\n",
       "  <tbody>\n",
       "    <tr>\n",
       "      <th>0</th>\n",
       "      <td>1648681200000</td>\n",
       "      <td>2022-03-30 23:00:00</td>\n",
       "      <td>BNB/USDT</td>\n",
       "      <td>443.1</td>\n",
       "      <td>444.1</td>\n",
       "      <td>441.6</td>\n",
       "      <td>442.1</td>\n",
       "      <td>28447.377</td>\n",
       "      <td>1.260756e+07</td>\n",
       "      <td>11376</td>\n",
       "    </tr>\n",
       "    <tr>\n",
       "      <th>1</th>\n",
       "      <td>1648677600000</td>\n",
       "      <td>2022-03-30 22:00:00</td>\n",
       "      <td>BNB/USDT</td>\n",
       "      <td>442.7</td>\n",
       "      <td>443.6</td>\n",
       "      <td>441.0</td>\n",
       "      <td>443.1</td>\n",
       "      <td>20493.516</td>\n",
       "      <td>9.067476e+06</td>\n",
       "      <td>13292</td>\n",
       "    </tr>\n",
       "    <tr>\n",
       "      <th>2</th>\n",
       "      <td>1648674000000</td>\n",
       "      <td>2022-03-30 21:00:00</td>\n",
       "      <td>BNB/USDT</td>\n",
       "      <td>446.2</td>\n",
       "      <td>446.3</td>\n",
       "      <td>441.5</td>\n",
       "      <td>442.6</td>\n",
       "      <td>29578.972</td>\n",
       "      <td>1.311486e+07</td>\n",
       "      <td>16727</td>\n",
       "    </tr>\n",
       "    <tr>\n",
       "      <th>3</th>\n",
       "      <td>1648670400000</td>\n",
       "      <td>2022-03-30 20:00:00</td>\n",
       "      <td>BNB/USDT</td>\n",
       "      <td>444.8</td>\n",
       "      <td>446.6</td>\n",
       "      <td>444.3</td>\n",
       "      <td>446.2</td>\n",
       "      <td>23738.269</td>\n",
       "      <td>1.057612e+07</td>\n",
       "      <td>14162</td>\n",
       "    </tr>\n",
       "    <tr>\n",
       "      <th>4</th>\n",
       "      <td>1648666800000</td>\n",
       "      <td>2022-03-30 19:00:00</td>\n",
       "      <td>BNB/USDT</td>\n",
       "      <td>445.2</td>\n",
       "      <td>445.8</td>\n",
       "      <td>441.8</td>\n",
       "      <td>444.8</td>\n",
       "      <td>35564.184</td>\n",
       "      <td>1.578383e+07</td>\n",
       "      <td>20509</td>\n",
       "    </tr>\n",
       "  </tbody>\n",
       "</table>\n",
       "</div>"
      ],
      "text/plain": [
       "            unix                date    symbol   open   high    low  close  \\\n",
       "0  1648681200000 2022-03-30 23:00:00  BNB/USDT  443.1  444.1  441.6  442.1   \n",
       "1  1648677600000 2022-03-30 22:00:00  BNB/USDT  442.7  443.6  441.0  443.1   \n",
       "2  1648674000000 2022-03-30 21:00:00  BNB/USDT  446.2  446.3  441.5  442.6   \n",
       "3  1648670400000 2022-03-30 20:00:00  BNB/USDT  444.8  446.6  444.3  446.2   \n",
       "4  1648666800000 2022-03-30 19:00:00  BNB/USDT  445.2  445.8  441.8  444.8   \n",
       "\n",
       "   Volume BNB   Volume USDT  tradecount  \n",
       "0   28447.377  1.260756e+07       11376  \n",
       "1   20493.516  9.067476e+06       13292  \n",
       "2   29578.972  1.311486e+07       16727  \n",
       "3   23738.269  1.057612e+07       14162  \n",
       "4   35564.184  1.578383e+07       20509  "
      ]
     },
     "execution_count": 4,
     "metadata": {},
     "output_type": "execute_result"
    }
   ],
   "source": [
    "df1 = pd.read_excel('BNB_CRYPTO.xlsx')\n",
    "df1.head()"
   ]
  },
  {
   "cell_type": "code",
   "execution_count": 5,
   "id": "a23eef45",
   "metadata": {},
   "outputs": [],
   "source": [
    "df['date'] = pd.to_datetime(df['date'])\n",
    "df['date'] = df['date'].dt.strftime('%y-%m-%d-%H')\n",
    "df1['date'] = df1['date'].dt.strftime('%y-%m-%d-%H')"
   ]
  },
  {
   "cell_type": "code",
   "execution_count": 6,
   "id": "10f87dd4",
   "metadata": {},
   "outputs": [],
   "source": [
    "#merge = [df,df1]\n",
    "#merge = pd.concat(merge)\n",
    "merge = pd.merge(df,df1,on='date')\n",
    "merge.set_index('date',inplace=True)\n",
    "merge.sort_values(by='date',inplace=True)"
   ]
  },
  {
   "cell_type": "code",
   "execution_count": 8,
   "id": "ad136476",
   "metadata": {},
   "outputs": [
    {
     "data": {
      "text/plain": [
       "Index(['text', 'Reddit_Flair', 'Reddit_TB_Polarity', 'Reddit_TB_Subjectivity',\n",
       "       'Reddit_Vader_Pos', 'Reddit_Vader_Neg', 'Reddit_Vader_Neu',\n",
       "       'Reddit_Vader_Compound', 'unix', 'symbol', 'open', 'high', 'low',\n",
       "       'close', 'Volume BNB', 'Volume USDT', 'tradecount'],\n",
       "      dtype='object')"
      ]
     },
     "execution_count": 8,
     "metadata": {},
     "output_type": "execute_result"
    }
   ],
   "source": [
    "merge.columns"
   ]
  },
  {
   "cell_type": "code",
   "execution_count": 9,
   "id": "04d6d81b",
   "metadata": {},
   "outputs": [],
   "source": [
    "merge.drop('text',axis=1,inplace=True)\n",
    "#merge.drop('Unnamed: 0',axis=1,inplace=True)\n",
    "merge.drop('unix',axis=1,inplace=True)\n",
    "merge.drop('symbol',axis=1,inplace=True)\n",
    "#merge.drop('text',axis=1,inplace=True)\n",
    "#merge.drop('Date',axis=1,inplace=True)\n",
    "#df.drop('Text',axis=1,inplace=True)"
   ]
  },
  {
   "cell_type": "code",
   "execution_count": 11,
   "id": "73ff1e81",
   "metadata": {},
   "outputs": [
    {
     "name": "stdout",
     "output_type": "stream",
     "text": [
      "Number of features 14\n"
     ]
    }
   ],
   "source": [
    "dataset = merge.values\n",
    "dataset = dataset.astype('float32')\n",
    "scaler = MinMaxScaler(feature_range=(0, 1))\n",
    "dataset = scaler.fit_transform(dataset)\n",
    "num_of_features = len(merge.columns)\n",
    "print('Number of features', num_of_features)"
   ]
  },
  {
   "cell_type": "code",
   "execution_count": 12,
   "id": "64e72f8c",
   "metadata": {},
   "outputs": [],
   "source": [
    "expr_name = 'expr_3'\n",
    "look_back = 24*7 \n",
    "lstm_layers = 32\n",
    "epochs=10\n",
    "batch_size=128"
   ]
  },
  {
   "cell_type": "code",
   "execution_count": 14,
   "id": "a09b4d27",
   "metadata": {},
   "outputs": [
    {
     "name": "stdout",
     "output_type": "stream",
     "text": [
      "Training dataset length  2373\n",
      "Testing dataset length  791\n",
      "look_back  168\n"
     ]
    }
   ],
   "source": [
    "train_size_percent = 0.75\n",
    "pred_col = merge.columns.get_loc('close')\n",
    "\n",
    "# function to split the data\n",
    "def create_dataset(dataset, pred_col, look_back=1):\n",
    "    dataX, dataY = [], []\n",
    "    for i in range(len(dataset)-look_back-1):\n",
    "        a = dataset[i:(i+look_back), :]\n",
    "        dataX.append(a)\n",
    "        dataY.append(dataset[i + look_back, pred_col])\n",
    "    return np.array(dataX), np.array(dataY)\n",
    "\n",
    "\n",
    "train_size = int(len(dataset) * train_size_percent)\n",
    "test_size = len(dataset) - train_size\n",
    "train, test = dataset[0:train_size, :], dataset[train_size:len(dataset), :]\n",
    "\n",
    "trainX, trainY = create_dataset(train, pred_col, look_back=look_back)\n",
    "testX, testY = create_dataset(test, pred_col, look_back=look_back)\n",
    "# reshape input to be  [samples, time steps, features]\n",
    "trainX = np.reshape(trainX, (trainX.shape[0], look_back, num_of_features))\n",
    "testX = np.reshape(testX, (testX.shape[0],look_back, num_of_features))\n",
    "\n",
    "print('Training dataset length ', len(train))\n",
    "print('Testing dataset length ', len(test))\n",
    "print('look_back ', look_back)"
   ]
  },
  {
   "cell_type": "code",
   "execution_count": 15,
   "id": "d24a3b55",
   "metadata": {},
   "outputs": [
    {
     "name": "stdout",
     "output_type": "stream",
     "text": [
      "Epoch 1/10\n",
      "13/13 [==============================] - 2s 87ms/step - loss: 0.1644 - val_loss: 0.0351\n",
      "Epoch 2/10\n",
      "13/13 [==============================] - 1s 59ms/step - loss: 0.0217 - val_loss: 0.0071\n",
      "Epoch 3/10\n",
      "13/13 [==============================] - 1s 57ms/step - loss: 0.0086 - val_loss: 0.0020\n",
      "Epoch 4/10\n",
      "13/13 [==============================] - 1s 57ms/step - loss: 0.0075 - val_loss: 0.0042\n",
      "Epoch 5/10\n",
      "13/13 [==============================] - 1s 55ms/step - loss: 0.0022 - val_loss: 0.0015\n",
      "Epoch 6/10\n",
      "13/13 [==============================] - 1s 59ms/step - loss: 0.0018 - val_loss: 0.0016\n",
      "Epoch 7/10\n",
      "13/13 [==============================] - 1s 58ms/step - loss: 0.0015 - val_loss: 0.0012\n",
      "Epoch 8/10\n",
      "13/13 [==============================] - 1s 56ms/step - loss: 0.0014 - val_loss: 0.0012\n",
      "Epoch 9/10\n",
      "13/13 [==============================] - 1s 61ms/step - loss: 0.0012 - val_loss: 9.5425e-04\n",
      "Epoch 10/10\n",
      "13/13 [==============================] - 1s 57ms/step - loss: 0.0012 - val_loss: 9.3231e-04\n"
     ]
    }
   ],
   "source": [
    "model = Sequential()\n",
    "model.add(LSTM(lstm_layers, input_shape=(look_back,num_of_features)))\n",
    "model.add(Dense(1))\n",
    "model.compile(loss='mean_squared_error', optimizer='adam')\n",
    "BTC = model.fit(trainX, trainY,validation_split=0.25, epochs=epochs, batch_size=batch_size,shuffle=False)"
   ]
  },
  {
   "cell_type": "code",
   "execution_count": 16,
   "id": "9111f4fd",
   "metadata": {},
   "outputs": [
    {
     "data": {
      "image/png": "[encoded data removed]",
      "text/plain": [
       "<Figure size 432x288 with 1 Axes>"
      ]
     },
     "metadata": {
      "needs_background": "light"
     },
     "output_type": "display_data"
    }
   ],
   "source": [
    "# Plot training\n",
    "plt.plot(BTC.history['loss'])\n",
    "plt.plot(BTC.history['val_loss'])\n",
    "plt.title('Model loss')\n",
    "plt.ylabel('Loss')\n",
    "plt.xlabel('Epoch')\n",
    "plt.legend(['training', 'validation'], loc='upper right')\n",
    "plt.show()"
   ]
  },
  {
   "cell_type": "code",
   "execution_count": 17,
   "id": "0ad97aa9",
   "metadata": {},
   "outputs": [],
   "source": [
    "trainPredict = model.predict(trainX)\n",
    "testPredict = model.predict(testX)\n",
    "\n",
    "# Get something which has as many features as dataset\n",
    "trainPredict_extended = np.zeros((len(trainPredict),num_of_features))\n",
    "# Put the predictions there\n",
    "trainPredict_extended[:,pred_col] = trainPredict[:,0]\n",
    "# Inverse transform it and select the 3rd column.\n",
    "trainPredict = scaler.inverse_transform(trainPredict_extended) [:,pred_col]\n",
    "\n",
    "# Get something which has as many features as dataset\n",
    "testPredict_extended = np.zeros((len(testPredict),num_of_features))\n",
    "# Put the predictions there\n",
    "testPredict_extended[:,pred_col] = testPredict[:,0]\n",
    "# Inverse transform it and select the pred_col column.\n",
    "testPredict = scaler.inverse_transform(testPredict_extended)[:,pred_col] \n",
    "\n",
    "trainY_extended = np.zeros((len(trainY),num_of_features))\n",
    "trainY_extended[:,pred_col]=trainY\n",
    "trainY = scaler.inverse_transform(trainY_extended)[:,pred_col]\n",
    "\n",
    "testY_extended = np.zeros((len(testY),num_of_features))\n",
    "testY_extended[:,pred_col]=testY\n",
    "testY = scaler.inverse_transform(testY_extended)[:,pred_col]\n",
    "\n",
    "# calculate root mean squared error\n",
    "trainScore_RMSE = math.sqrt(mean_squared_error(trainY, trainPredict))\n",
    "testScore_RMSE = math.sqrt(mean_squared_error(testY, testPredict))\n",
    "\n",
    "# calculate absolute mean error\n",
    "trainScore_MAE = np.sum(np.absolute(trainY - trainPredict))/len(trainY)\n",
    "testScore_MAE = np.sum(np.absolute(testY - testPredict))/len(testY)"
   ]
  },
  {
   "cell_type": "code",
   "execution_count": 19,
   "id": "cc11d294",
   "metadata": {},
   "outputs": [
    {
     "data": {
      "image/png": "[encoded data removed]",
      "text/plain": [
       "<Figure size 1080x504 with 1 Axes>"
      ]
     },
     "metadata": {
      "needs_background": "light"
     },
     "output_type": "display_data"
    }
   ],
   "source": [
    "trainPredictPlot = np.empty_like(dataset)\n",
    "trainPredictPlot[:, :] = np.nan\n",
    "trainPredictPlot[look_back:len(trainPredict)+look_back, pred_col] = trainPredict\n",
    "\n",
    "# shift test predictions for plotting\n",
    "testPredictPlot = np.empty_like(dataset)\n",
    "testPredictPlot[:, :] = np.nan\n",
    "testPredictPlot[len(trainPredict)+(look_back*2)+1:len(dataset)-1, pred_col] = testPredict\n",
    "\n",
    "# contruct pandas dataframe for plotting\n",
    "time_df = pd.DataFrame(merge.index)\n",
    "time_df['Actual'] = scaler.inverse_transform(dataset)[:,pred_col]\n",
    "df1 = pd.DataFrame(trainPredictPlot[:,pred_col],columns=['Train'])\n",
    "df2 = pd.DataFrame(testPredictPlot[:,pred_col],columns=['Test'])\n",
    "time_df2 = pd.concat([time_df, df1, df2], axis=1, sort=True)\n",
    "time_df2.set_index('date',inplace=True)\n",
    "\n",
    "# plot the output\n",
    "fig, ax = plt.subplots(figsize=(15,7))\n",
    "time_df2.plot(ax=ax,rot=90,alpha=0.7)\n",
    "plt.xlabel('Date')\n",
    "plt.ylabel('Binance Value')\n",
    "plt.title('Binance Price Prediction')\n",
    "plt.savefig(expr_name + '.png',bbox_inches = \"tight\")"
   ]
  },
  {
   "cell_type": "code",
   "execution_count": 20,
   "id": "afeb8f9c",
   "metadata": {},
   "outputs": [
    {
     "name": "stdout",
     "output_type": "stream",
     "text": [
      "----------------------------------------------------------------------------------------------------\n",
      "Experiment name: expr_3\n",
      "----------------------------------------------------------------------------------------------------\n",
      "look_back days: 7.0\n",
      "lstm_layers: 32\n",
      "epochs: 10\n",
      "batch_size: 128\n",
      "dataset features ['date', 'text', 'Reddit_Flair', 'Reddit_TB_Polarity', 'Reddit_TB_Subjectivity', 'Reddit_Vader_Pos', 'Reddit_Vader_Neg', 'Reddit_Vader_Neu', 'Reddit_Vader_Compound']\n",
      "----------------------------------------------------------------------------------------------------\n",
      "Train Score: 6.55 RMSE\n",
      "Test Score: 7.04 RMSE\n",
      "----------------------------------------------------------------------------------------------------\n",
      "Train Score: 4.89 MAE\n",
      "Test Score: 5.50 MAE\n",
      "----------------------------------------------------------------------------------------------------\n",
      "Model summary:\n",
      "Model: \"sequential\"\n",
      "_________________________________________________________________\n",
      " Layer (type)                Output Shape              Param #   \n",
      "=================================================================\n",
      " lstm (LSTM)                 (None, 32)                6016      \n",
      "                                                                 \n",
      " dense (Dense)               (None, 1)                 33        \n",
      "                                                                 \n",
      "=================================================================\n",
      "Total params: 6,049\n",
      "Trainable params: 6,049\n",
      "Non-trainable params: 0\n",
      "_________________________________________________________________\n"
     ]
    }
   ],
   "source": [
    "print('-' * 100)\n",
    "print('Experiment name:', expr_name)\n",
    "print('-' * 100)\n",
    "print('look_back days:', look_back/24)\n",
    "print('lstm_layers:', lstm_layers)\n",
    "print('epochs:', epochs)\n",
    "print('batch_size:', batch_size)\n",
    "print('dataset features', list(df.columns))\n",
    "print('-' * 100)\n",
    "print('Train Score: %.2f RMSE' % (trainScore_RMSE))\n",
    "print('Test Score: %.2f RMSE' % (testScore_RMSE))\n",
    "print('-' * 100)\n",
    "print('Train Score: %.2f MAE' % (trainScore_MAE))\n",
    "print('Test Score: %.2f MAE' % (testScore_MAE))\n",
    "print('-' * 100)\n",
    "print('Model summary:')\n",
    "model.summary()"
   ]
  },
  {
   "cell_type": "code",
   "execution_count": null,
   "id": "b5e3a279",
   "metadata": {},
   "outputs": [],
   "source": []
  }
 ],
 "metadata": {
  "kernelspec": {
   "display_name": "Python 3 (ipykernel)",
   "language": "python",
   "name": "python3"
  },
  "language_info": {
   "codemirror_mode": {
    "name": "ipython",
    "version": 3
   },
   "file_extension": ".py",
   "mimetype": "text/x-python",
   "name": "python",
   "nbconvert_exporter": "python",
   "pygments_lexer": "ipython3",
   "version": "3.9.7"
  }
 },
 "nbformat": 4,
 "nbformat_minor": 5
}
