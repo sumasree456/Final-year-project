{
 "cells": [
  {
   "cell_type": "code",
   "execution_count": 1,
   "id": "5a4661dd",
   "metadata": {},
   "outputs": [],
   "source": [
    "import numpy as np\n",
    "import pandas as pd\n",
    "import matplotlib.pyplot as plt\n",
    "import math\n",
    "import time\n",
    "import datetime\n",
    "from dateutil import parser\n",
    "import matplotlib.dates as mdates\n",
    "import matplotlib.ticker as plticker\n",
    "from sklearn.preprocessing import MinMaxScaler\n",
    "from sklearn.metrics import mean_squared_error\n",
    "from keras.models import Sequential\n",
    "from keras.layers import Dense\n",
    "from keras.layers import LSTM"
   ]
  },
  {
   "cell_type": "code",
   "execution_count": 2,
   "id": "a1cf94bd",
   "metadata": {},
   "outputs": [],
   "source": [
    "df = pd.read_csv('ETH_TWEET_SENTIMENTS.csv')"
   ]
  },
  {
   "cell_type": "code",
   "execution_count": 3,
   "id": "5b6df310",
   "metadata": {},
   "outputs": [
    {
     "data": {
      "text/html": [
       "<div>\n",
       "<style scoped>\n",
       "    .dataframe tbody tr th:only-of-type {\n",
       "        vertical-align: middle;\n",
       "    }\n",
       "\n",
       "    .dataframe tbody tr th {\n",
       "        vertical-align: top;\n",
       "    }\n",
       "\n",
       "    .dataframe thead th {\n",
       "        text-align: right;\n",
       "    }\n",
       "</style>\n",
       "<table border=\"1\" class=\"dataframe\">\n",
       "  <thead>\n",
       "    <tr style=\"text-align: right;\">\n",
       "      <th></th>\n",
       "      <th>Unnamed: 0</th>\n",
       "      <th>Text</th>\n",
       "      <th>likeCount</th>\n",
       "      <th>retweetCount</th>\n",
       "      <th>time</th>\n",
       "      <th>compound</th>\n",
       "      <th>pos</th>\n",
       "      <th>neg</th>\n",
       "      <th>neu</th>\n",
       "      <th>Twitter_Flair</th>\n",
       "      <th>Twitter_TB_Polarity</th>\n",
       "      <th>Twitter_TB_Subjectivity</th>\n",
       "    </tr>\n",
       "  </thead>\n",
       "  <tbody>\n",
       "    <tr>\n",
       "      <th>0</th>\n",
       "      <td>0</td>\n",
       "      <td>@wealthytalkz @Virtualand_tech I understand th...</td>\n",
       "      <td>1.0</td>\n",
       "      <td>0.0</td>\n",
       "      <td>2022-01-01 23:59:35+00:00</td>\n",
       "      <td>0.5</td>\n",
       "      <td>0.1</td>\n",
       "      <td>0.0</td>\n",
       "      <td>0.934</td>\n",
       "      <td>-0.578022</td>\n",
       "      <td>-0.062500</td>\n",
       "      <td>0.437500</td>\n",
       "    </tr>\n",
       "    <tr>\n",
       "      <th>1</th>\n",
       "      <td>1</td>\n",
       "      <td>@mac_crypto25 @MatMan3331 @ogefellas @WhitneyW...</td>\n",
       "      <td>6.0</td>\n",
       "      <td>0.0</td>\n",
       "      <td>2022-01-01 23:59:20+00:00</td>\n",
       "      <td>1.0</td>\n",
       "      <td>0.2</td>\n",
       "      <td>0.0</td>\n",
       "      <td>0.760</td>\n",
       "      <td>0.951924</td>\n",
       "      <td>0.366667</td>\n",
       "      <td>0.266667</td>\n",
       "    </tr>\n",
       "    <tr>\n",
       "      <th>2</th>\n",
       "      <td>2</td>\n",
       "      <td>@benmcdonaghh @CGasparino @boxing101_gg @Rippl...</td>\n",
       "      <td>1.0</td>\n",
       "      <td>0.0</td>\n",
       "      <td>2022-01-01 23:58:57+00:00</td>\n",
       "      <td>0.5</td>\n",
       "      <td>0.1</td>\n",
       "      <td>0.0</td>\n",
       "      <td>0.856</td>\n",
       "      <td>0.918591</td>\n",
       "      <td>0.000000</td>\n",
       "      <td>0.000000</td>\n",
       "    </tr>\n",
       "    <tr>\n",
       "      <th>3</th>\n",
       "      <td>3</td>\n",
       "      <td>✨I've just created \"Camaro SS\" collectible! \\n...</td>\n",
       "      <td>3.0</td>\n",
       "      <td>0.0</td>\n",
       "      <td>2022-01-01 23:58:01+00:00</td>\n",
       "      <td>0.7</td>\n",
       "      <td>0.2</td>\n",
       "      <td>0.1</td>\n",
       "      <td>0.730</td>\n",
       "      <td>0.998577</td>\n",
       "      <td>0.187500</td>\n",
       "      <td>0.600000</td>\n",
       "    </tr>\n",
       "    <tr>\n",
       "      <th>4</th>\n",
       "      <td>4</td>\n",
       "      <td>That is my Jam🐝\\n\\n#M2ToTheMoon #Ethereum \\n\\n...</td>\n",
       "      <td>4.0</td>\n",
       "      <td>1.0</td>\n",
       "      <td>2022-01-01 23:57:32+00:00</td>\n",
       "      <td>0.0</td>\n",
       "      <td>0.0</td>\n",
       "      <td>0.0</td>\n",
       "      <td>1.000</td>\n",
       "      <td>0.864589</td>\n",
       "      <td>0.000000</td>\n",
       "      <td>0.000000</td>\n",
       "    </tr>\n",
       "  </tbody>\n",
       "</table>\n",
       "</div>"
      ],
      "text/plain": [
       "   Unnamed: 0                                               Text  likeCount  \\\n",
       "0           0  @wealthytalkz @Virtualand_tech I understand th...        1.0   \n",
       "1           1  @mac_crypto25 @MatMan3331 @ogefellas @WhitneyW...        6.0   \n",
       "2           2  @benmcdonaghh @CGasparino @boxing101_gg @Rippl...        1.0   \n",
       "3           3  ✨I've just created \"Camaro SS\" collectible! \\n...        3.0   \n",
       "4           4  That is my Jam🐝\\n\\n#M2ToTheMoon #Ethereum \\n\\n...        4.0   \n",
       "\n",
       "   retweetCount                       time  compound  pos  neg    neu  \\\n",
       "0           0.0  2022-01-01 23:59:35+00:00       0.5  0.1  0.0  0.934   \n",
       "1           0.0  2022-01-01 23:59:20+00:00       1.0  0.2  0.0  0.760   \n",
       "2           0.0  2022-01-01 23:58:57+00:00       0.5  0.1  0.0  0.856   \n",
       "3           0.0  2022-01-01 23:58:01+00:00       0.7  0.2  0.1  0.730   \n",
       "4           1.0  2022-01-01 23:57:32+00:00       0.0  0.0  0.0  1.000   \n",
       "\n",
       "   Twitter_Flair  Twitter_TB_Polarity  Twitter_TB_Subjectivity  \n",
       "0      -0.578022            -0.062500                 0.437500  \n",
       "1       0.951924             0.366667                 0.266667  \n",
       "2       0.918591             0.000000                 0.000000  \n",
       "3       0.998577             0.187500                 0.600000  \n",
       "4       0.864589             0.000000                 0.000000  "
      ]
     },
     "execution_count": 3,
     "metadata": {},
     "output_type": "execute_result"
    }
   ],
   "source": [
    "df.head()"
   ]
  },
  {
   "cell_type": "code",
   "execution_count": 4,
   "id": "85a19ffb",
   "metadata": {},
   "outputs": [
    {
     "data": {
      "text/plain": [
       "(551940, 12)"
      ]
     },
     "execution_count": 4,
     "metadata": {},
     "output_type": "execute_result"
    }
   ],
   "source": [
    "df.shape"
   ]
  },
  {
   "cell_type": "code",
   "execution_count": 5,
   "id": "3ae72642",
   "metadata": {},
   "outputs": [
    {
     "data": {
      "text/plain": [
       "Unnamed: 0                   int64\n",
       "Text                        object\n",
       "likeCount                  float64\n",
       "retweetCount               float64\n",
       "time                        object\n",
       "compound                   float64\n",
       "pos                        float64\n",
       "neg                        float64\n",
       "neu                        float64\n",
       "Twitter_Flair              float64\n",
       "Twitter_TB_Polarity        float64\n",
       "Twitter_TB_Subjectivity    float64\n",
       "dtype: object"
      ]
     },
     "execution_count": 5,
     "metadata": {},
     "output_type": "execute_result"
    }
   ],
   "source": [
    "df.dtypes"
   ]
  },
  {
   "cell_type": "code",
   "execution_count": 6,
   "id": "1a887dce",
   "metadata": {},
   "outputs": [],
   "source": [
    "df1 = pd.read_excel('ETH_USDT.xlsx')"
   ]
  },
  {
   "cell_type": "code",
   "execution_count": 7,
   "id": "c03f4d56",
   "metadata": {},
   "outputs": [
    {
     "data": {
      "text/plain": [
       "unix                    int64\n",
       "date           datetime64[ns]\n",
       "symbol                 object\n",
       "open                  float64\n",
       "high                  float64\n",
       "low                   float64\n",
       "close                 float64\n",
       "Volume ETH            float64\n",
       "Volume USDT           float64\n",
       "tradecount              int64\n",
       "dtype: object"
      ]
     },
     "execution_count": 7,
     "metadata": {},
     "output_type": "execute_result"
    }
   ],
   "source": [
    "df1.dtypes"
   ]
  },
  {
   "cell_type": "code",
   "execution_count": 8,
   "id": "b3a30dda",
   "metadata": {},
   "outputs": [],
   "source": [
    "df['date'] = pd.to_datetime(df['time'])"
   ]
  },
  {
   "cell_type": "code",
   "execution_count": 9,
   "id": "69e1b56b",
   "metadata": {},
   "outputs": [],
   "source": [
    "df.drop('Unnamed: 0',axis=1,inplace=True)\n",
    "df1.drop('unix',axis=1,inplace=True)\n",
    "df1.drop('symbol',axis=1,inplace=True)\n",
    "df.drop('Text',axis=1,inplace=True)\n",
    "df.drop('time',axis=1,inplace=True)\n",
    "#df.drop('Text',axis=1,inplace=True)"
   ]
  },
  {
   "cell_type": "code",
   "execution_count": 10,
   "id": "adf0ce8f",
   "metadata": {},
   "outputs": [],
   "source": [
    "df['date'] = df['date'].dt.strftime('%y-%m-%d-%H')\n",
    "df1['date'] = df1['date'].dt.strftime('%y-%m-%d-%H')"
   ]
  },
  {
   "cell_type": "code",
   "execution_count": 11,
   "id": "ec62aa5d",
   "metadata": {},
   "outputs": [],
   "source": [
    "#merge = [df,df1]\n",
    "#merge = pd.concat(merge)\n",
    "merge = pd.merge(df,df1,on='date')"
   ]
  },
  {
   "cell_type": "code",
   "execution_count": 12,
   "id": "b729ef9c",
   "metadata": {},
   "outputs": [],
   "source": [
    "merge.set_index('date',inplace=True)"
   ]
  },
  {
   "cell_type": "code",
   "execution_count": 13,
   "id": "71f79113",
   "metadata": {},
   "outputs": [],
   "source": [
    "merge.sort_values(by='date',inplace=True)"
   ]
  },
  {
   "cell_type": "code",
   "execution_count": 14,
   "id": "ab8db3ba",
   "metadata": {},
   "outputs": [
    {
     "data": {
      "text/html": [
       "<div>\n",
       "<style scoped>\n",
       "    .dataframe tbody tr th:only-of-type {\n",
       "        vertical-align: middle;\n",
       "    }\n",
       "\n",
       "    .dataframe tbody tr th {\n",
       "        vertical-align: top;\n",
       "    }\n",
       "\n",
       "    .dataframe thead th {\n",
       "        text-align: right;\n",
       "    }\n",
       "</style>\n",
       "<table border=\"1\" class=\"dataframe\">\n",
       "  <thead>\n",
       "    <tr style=\"text-align: right;\">\n",
       "      <th></th>\n",
       "      <th>likeCount</th>\n",
       "      <th>retweetCount</th>\n",
       "      <th>compound</th>\n",
       "      <th>pos</th>\n",
       "      <th>neg</th>\n",
       "      <th>neu</th>\n",
       "      <th>Twitter_Flair</th>\n",
       "      <th>Twitter_TB_Polarity</th>\n",
       "      <th>Twitter_TB_Subjectivity</th>\n",
       "      <th>open</th>\n",
       "      <th>high</th>\n",
       "      <th>low</th>\n",
       "      <th>close</th>\n",
       "      <th>Volume ETH</th>\n",
       "      <th>Volume USDT</th>\n",
       "      <th>tradecount</th>\n",
       "    </tr>\n",
       "    <tr>\n",
       "      <th>date</th>\n",
       "      <th></th>\n",
       "      <th></th>\n",
       "      <th></th>\n",
       "      <th></th>\n",
       "      <th></th>\n",
       "      <th></th>\n",
       "      <th></th>\n",
       "      <th></th>\n",
       "      <th></th>\n",
       "      <th></th>\n",
       "      <th></th>\n",
       "      <th></th>\n",
       "      <th></th>\n",
       "      <th></th>\n",
       "      <th></th>\n",
       "      <th></th>\n",
       "    </tr>\n",
       "  </thead>\n",
       "  <tbody>\n",
       "    <tr>\n",
       "      <th>22-01-01-00</th>\n",
       "      <td>8.0</td>\n",
       "      <td>3.0</td>\n",
       "      <td>0.7</td>\n",
       "      <td>0.1</td>\n",
       "      <td>0.0</td>\n",
       "      <td>0.884</td>\n",
       "      <td>-0.713887</td>\n",
       "      <td>0.242614</td>\n",
       "      <td>0.396136</td>\n",
       "      <td>3676.22</td>\n",
       "      <td>3730.0</td>\n",
       "      <td>3676.22</td>\n",
       "      <td>3723.04</td>\n",
       "      <td>9023.374</td>\n",
       "      <td>3.343005e+07</td>\n",
       "      <td>21702</td>\n",
       "    </tr>\n",
       "    <tr>\n",
       "      <th>22-01-01-00</th>\n",
       "      <td>5.0</td>\n",
       "      <td>2.0</td>\n",
       "      <td>0.7</td>\n",
       "      <td>0.2</td>\n",
       "      <td>0.0</td>\n",
       "      <td>0.759</td>\n",
       "      <td>0.994924</td>\n",
       "      <td>0.000000</td>\n",
       "      <td>0.000000</td>\n",
       "      <td>3676.22</td>\n",
       "      <td>3730.0</td>\n",
       "      <td>3676.22</td>\n",
       "      <td>3723.04</td>\n",
       "      <td>9023.374</td>\n",
       "      <td>3.343005e+07</td>\n",
       "      <td>21702</td>\n",
       "    </tr>\n",
       "    <tr>\n",
       "      <th>22-01-01-00</th>\n",
       "      <td>3.0</td>\n",
       "      <td>0.0</td>\n",
       "      <td>-0.4</td>\n",
       "      <td>0.0</td>\n",
       "      <td>0.1</td>\n",
       "      <td>0.915</td>\n",
       "      <td>-0.998124</td>\n",
       "      <td>0.500000</td>\n",
       "      <td>0.500000</td>\n",
       "      <td>3676.22</td>\n",
       "      <td>3730.0</td>\n",
       "      <td>3676.22</td>\n",
       "      <td>3723.04</td>\n",
       "      <td>9023.374</td>\n",
       "      <td>3.343005e+07</td>\n",
       "      <td>21702</td>\n",
       "    </tr>\n",
       "    <tr>\n",
       "      <th>22-01-01-00</th>\n",
       "      <td>2.0</td>\n",
       "      <td>0.0</td>\n",
       "      <td>0.2</td>\n",
       "      <td>0.1</td>\n",
       "      <td>0.0</td>\n",
       "      <td>0.893</td>\n",
       "      <td>0.982312</td>\n",
       "      <td>0.258333</td>\n",
       "      <td>0.350000</td>\n",
       "      <td>3676.22</td>\n",
       "      <td>3730.0</td>\n",
       "      <td>3676.22</td>\n",
       "      <td>3723.04</td>\n",
       "      <td>9023.374</td>\n",
       "      <td>3.343005e+07</td>\n",
       "      <td>21702</td>\n",
       "    </tr>\n",
       "    <tr>\n",
       "      <th>22-01-01-00</th>\n",
       "      <td>4.0</td>\n",
       "      <td>0.0</td>\n",
       "      <td>0.0</td>\n",
       "      <td>0.0</td>\n",
       "      <td>0.0</td>\n",
       "      <td>1.000</td>\n",
       "      <td>0.797964</td>\n",
       "      <td>0.000000</td>\n",
       "      <td>0.000000</td>\n",
       "      <td>3676.22</td>\n",
       "      <td>3730.0</td>\n",
       "      <td>3676.22</td>\n",
       "      <td>3723.04</td>\n",
       "      <td>9023.374</td>\n",
       "      <td>3.343005e+07</td>\n",
       "      <td>21702</td>\n",
       "    </tr>\n",
       "  </tbody>\n",
       "</table>\n",
       "</div>"
      ],
      "text/plain": [
       "             likeCount  retweetCount  compound  pos  neg    neu  \\\n",
       "date                                                              \n",
       "22-01-01-00        8.0           3.0       0.7  0.1  0.0  0.884   \n",
       "22-01-01-00        5.0           2.0       0.7  0.2  0.0  0.759   \n",
       "22-01-01-00        3.0           0.0      -0.4  0.0  0.1  0.915   \n",
       "22-01-01-00        2.0           0.0       0.2  0.1  0.0  0.893   \n",
       "22-01-01-00        4.0           0.0       0.0  0.0  0.0  1.000   \n",
       "\n",
       "             Twitter_Flair  Twitter_TB_Polarity  Twitter_TB_Subjectivity  \\\n",
       "date                                                                       \n",
       "22-01-01-00      -0.713887             0.242614                 0.396136   \n",
       "22-01-01-00       0.994924             0.000000                 0.000000   \n",
       "22-01-01-00      -0.998124             0.500000                 0.500000   \n",
       "22-01-01-00       0.982312             0.258333                 0.350000   \n",
       "22-01-01-00       0.797964             0.000000                 0.000000   \n",
       "\n",
       "                open    high      low    close  Volume ETH   Volume USDT  \\\n",
       "date                                                                       \n",
       "22-01-01-00  3676.22  3730.0  3676.22  3723.04    9023.374  3.343005e+07   \n",
       "22-01-01-00  3676.22  3730.0  3676.22  3723.04    9023.374  3.343005e+07   \n",
       "22-01-01-00  3676.22  3730.0  3676.22  3723.04    9023.374  3.343005e+07   \n",
       "22-01-01-00  3676.22  3730.0  3676.22  3723.04    9023.374  3.343005e+07   \n",
       "22-01-01-00  3676.22  3730.0  3676.22  3723.04    9023.374  3.343005e+07   \n",
       "\n",
       "             tradecount  \n",
       "date                     \n",
       "22-01-01-00       21702  \n",
       "22-01-01-00       21702  \n",
       "22-01-01-00       21702  \n",
       "22-01-01-00       21702  \n",
       "22-01-01-00       21702  "
      ]
     },
     "execution_count": 14,
     "metadata": {},
     "output_type": "execute_result"
    }
   ],
   "source": [
    "merge.head()"
   ]
  },
  {
   "cell_type": "code",
   "execution_count": 18,
   "id": "95fd7150",
   "metadata": {},
   "outputs": [
    {
     "name": "stdout",
     "output_type": "stream",
     "text": [
      "dataset.shape (551940, 16)\n",
      "Number of features 16\n"
     ]
    }
   ],
   "source": [
    "dataset = merge.values\n",
    "dataset = dataset.astype('float32')\n",
    "scaler = MinMaxScaler(feature_range=(0, 1))\n",
    "dataset = scaler.fit_transform(merge)\n",
    "print('dataset.shape', dataset.shape)\n",
    "num_of_features = len(merge.columns)\n",
    "print('Number of features', num_of_features)"
   ]
  },
  {
   "cell_type": "code",
   "execution_count": 19,
   "id": "11547163",
   "metadata": {},
   "outputs": [],
   "source": [
    "expr_name = 'expr_4'\n",
    "look_back = 24*7 \n",
    "#lstm_layers = 50\n",
    "epochs=5\n",
    "batch_size=128"
   ]
  },
  {
   "cell_type": "code",
   "execution_count": 20,
   "id": "adec85b2",
   "metadata": {},
   "outputs": [
    {
     "name": "stdout",
     "output_type": "stream",
     "text": [
      "Training dataset length  386358\n",
      "Testing dataset length  165582\n",
      "look_back  168\n"
     ]
    }
   ],
   "source": [
    "train_size_percent = 0.70\n",
    "pred_col = merge.columns.get_loc('close')\n",
    "\n",
    "# function to split the data\n",
    "def create_dataset(dataset, pred_col, look_back=1):\n",
    "    dataX, dataY = [], []\n",
    "    for i in range(len(dataset)-look_back-1):\n",
    "        a = dataset[i:(i+look_back), :]\n",
    "        dataX.append(a)\n",
    "        dataY.append(dataset[i + look_back, pred_col])\n",
    "    return np.array(dataX), np.array(dataY)\n",
    "\n",
    "\n",
    "train_size = int(len(dataset) * train_size_percent)\n",
    "test_size = len(dataset) - train_size\n",
    "train, test = dataset[0:train_size, :], dataset[train_size:len(dataset), :]\n",
    "\n",
    "trainX, trainY = create_dataset(train, pred_col, look_back=look_back)\n",
    "testX, testY = create_dataset(test, pred_col, look_back=look_back)\n",
    "# reshape input to be  [samples, time steps, features]\n",
    "trainX = np.reshape(trainX, (trainX.shape[0], look_back, num_of_features))\n",
    "testX = np.reshape(testX, (testX.shape[0],look_back, num_of_features))\n",
    "\n",
    "print('Training dataset length ', len(train))\n",
    "print('Testing dataset length ', len(test))\n",
    "print('look_back ', look_back)"
   ]
  },
  {
   "cell_type": "code",
   "execution_count": 21,
   "id": "b944955a",
   "metadata": {},
   "outputs": [
    {
     "name": "stdout",
     "output_type": "stream",
     "text": [
      "Epoch 1/5\n",
      "1962/1962 [==============================] - 393s 196ms/step - loss: 0.0012 - val_loss: 0.0167\n",
      "Epoch 2/5\n",
      "1962/1962 [==============================] - 813s 414ms/step - loss: 6.6282e-04 - val_loss: 0.0148\n",
      "Epoch 3/5\n",
      "1962/1962 [==============================] - 1030s 525ms/step - loss: 9.0519e-04 - val_loss: 0.0146\n",
      "Epoch 4/5\n",
      "1962/1962 [==============================] - 999s 509ms/step - loss: 0.0011 - val_loss: 0.0139\n",
      "Epoch 5/5\n",
      "1962/1962 [==============================] - 1045s 533ms/step - loss: 0.0012 - val_loss: 0.0127\n"
     ]
    }
   ],
   "source": [
    "model = Sequential()\n",
    "model.add(LSTM(32,input_shape=(look_back,num_of_features)))\n",
    "#model.add(LSTM(100,activation='relu',return_sequences=True))\n",
    "#model.add(LSTM(50,activation='relu',return_sequences=True))\n",
    "#model.add(LSTM(25,activation='relu'))\n",
    "#model.add(LSTM(20,activation='relu'))\n",
    "#model.add(LSTM(10,activation='relu'))\n",
    "model.add(Dense(1))\n",
    "model.compile(loss='mean_squared_error', optimizer='adam')\n",
    "history= model.fit(trainX, trainY,validation_split=0.35, epochs=epochs, batch_size=batch_size,shuffle=False)"
   ]
  },
  {
   "cell_type": "code",
   "execution_count": 20,
   "id": "370065fb",
   "metadata": {},
   "outputs": [
    {
     "data": {
      "image/png": "[encoded data removed]",
      "text/plain": [
       "<Figure size 432x288 with 1 Axes>"
      ]
     },
     "metadata": {
      "needs_background": "light"
     },
     "output_type": "display_data"
    }
   ],
   "source": [
    "# Plot training\n",
    "plt.plot(history.history['loss'])\n",
    "plt.plot(history.history['val_loss'])\n",
    "plt.title('Model loss')\n",
    "plt.ylabel('Loss')\n",
    "plt.xlabel('Epoch')\n",
    "plt.legend(['training', 'validation'], loc='upper right')\n",
    "plt.show()"
   ]
  },
  {
   "cell_type": "code",
   "execution_count": 21,
   "id": "afcb2286",
   "metadata": {},
   "outputs": [],
   "source": [
    "trainPredict = model.predict(trainX)\n",
    "testPredict = model.predict(testX)\n",
    "\n",
    "# Get something which has as many features as dataset\n",
    "trainPredict_extended = np.zeros((len(trainPredict),num_of_features))\n",
    "# Put the predictions there\n",
    "trainPredict_extended[:,pred_col] = trainPredict[:,0]\n",
    "# Inverse transform it and select the 3rd column.\n",
    "trainPredict = scaler.inverse_transform(trainPredict_extended) [:,pred_col]\n",
    "\n",
    "# Get something which has as many features as dataset\n",
    "testPredict_extended = np.zeros((len(testPredict),num_of_features))\n",
    "# Put the predictions there\n",
    "testPredict_extended[:,pred_col] = testPredict[:,0]\n",
    "# Inverse transform it and select the pred_col column.\n",
    "testPredict = scaler.inverse_transform(testPredict_extended)[:,pred_col] \n",
    "\n",
    "trainY_extended = np.zeros((len(trainY),num_of_features))\n",
    "trainY_extended[:,pred_col]=trainY\n",
    "trainY = scaler.inverse_transform(trainY_extended)[:,pred_col]\n",
    "\n",
    "testY_extended = np.zeros((len(testY),num_of_features))\n",
    "testY_extended[:,pred_col]=testY\n",
    "testY = scaler.inverse_transform(testY_extended)[:,pred_col]\n",
    "\n",
    "# calculate root mean squared error\n",
    "trainScore_RMSE = math.sqrt(mean_squared_error(trainY, trainPredict))\n",
    "testScore_RMSE = math.sqrt(mean_squared_error(testY, testPredict))\n",
    "\n",
    "# calculate absolute mean error\n",
    "trainScore_MAE = np.sum(np.absolute(trainY - trainPredict))/len(trainY)\n",
    "testScore_MAE = np.sum(np.absolute(testY - testPredict))/len(testY)"
   ]
  },
  {
   "cell_type": "code",
   "execution_count": 22,
   "id": "4a9e9706",
   "metadata": {},
   "outputs": [
    {
     "data": {
      "image/png": "[encoded data removed]",
      "text/plain": [
       "<Figure size 1080x504 with 1 Axes>"
      ]
     },
     "metadata": {
      "needs_background": "light"
     },
     "output_type": "display_data"
    }
   ],
   "source": [
    "trainPredictPlot = np.empty_like(dataset)\n",
    "trainPredictPlot[:, :] = np.nan\n",
    "trainPredictPlot[look_back:len(trainPredict)+look_back, pred_col] = trainPredict\n",
    "\n",
    "# shift test predictions for plotting\n",
    "testPredictPlot = np.empty_like(dataset)\n",
    "testPredictPlot[:, :] = np.nan\n",
    "testPredictPlot[len(trainPredict)+(look_back*2)+1:len(dataset)-1, pred_col] = testPredict\n",
    "\n",
    "# contruct pandas dataframe for plotting\n",
    "time_df = pd.DataFrame(merge.index)\n",
    "time_df['Actual'] = scaler.inverse_transform(dataset)[:,pred_col]\n",
    "df1 = pd.DataFrame(trainPredictPlot[:,pred_col],columns=['Train'])\n",
    "df2 = pd.DataFrame(testPredictPlot[:,pred_col],columns=['Test'])\n",
    "time_df2 = pd.concat([time_df, df1, df2], axis=1, sort=True)\n",
    "time_df2.set_index('date',inplace=True)\n",
    "\n",
    "# plot the output\n",
    "fig, ax = plt.subplots(figsize=(15,7))\n",
    "time_df2.plot(ax=ax,rot=90,alpha=0.7)\n",
    "plt.xlabel('Date')\n",
    "plt.ylabel('Ethereum Value')\n",
    "plt.title('Ethereum Price Prediction')\n",
    "plt.savefig(expr_name + '.png',bbox_inches = \"tight\")"
   ]
  },
  {
   "cell_type": "code",
   "execution_count": 24,
   "id": "c9260b26",
   "metadata": {},
   "outputs": [
    {
     "name": "stdout",
     "output_type": "stream",
     "text": [
      "----------------------------------------------------------------------------------------------------\n",
      "Experiment name: expr_4\n",
      "----------------------------------------------------------------------------------------------------\n",
      "look_back days: 7.0\n",
      "epochs: 5\n",
      "batch_size: 128\n",
      "dataset features ['likeCount', 'retweetCount', 'compound', 'pos', 'neg', 'neu', 'Twitter_Flair', 'Twitter_TB_Polarity', 'Twitter_TB_Subjectivity', 'date']\n",
      "----------------------------------------------------------------------------------------------------\n",
      "Train Score: RMSE:  310.4340963790598\n",
      "Test Score: RMSE:  229.26854348442203\n",
      "----------------------------------------------------------------------------------------------------\n",
      "Train Score: MAE:  253.02065510538597\n",
      "Test Score: MAE:  192.60966499293698\n",
      "----------------------------------------------------------------------------------------------------\n",
      "Model summary:\n",
      "Model: \"sequential\"\n",
      "_________________________________________________________________\n",
      " Layer (type)                Output Shape              Param #   \n",
      "=================================================================\n",
      " lstm (LSTM)                 (None, 32)                6272      \n",
      "                                                                 \n",
      " dense (Dense)               (None, 1)                 33        \n",
      "                                                                 \n",
      "=================================================================\n",
      "Total params: 6,305\n",
      "Trainable params: 6,305\n",
      "Non-trainable params: 0\n",
      "_________________________________________________________________\n"
     ]
    }
   ],
   "source": [
    "print('-' * 100)\n",
    "print('Experiment name:', expr_name)\n",
    "\n",
    "print('-' * 100)\n",
    "print('look_back days:', look_back/24)\n",
    "#print('lstm_layers:', lstm_layers)\n",
    "print('epochs:', epochs)\n",
    "print('batch_size:', batch_size)\n",
    "print('dataset features', list(merge.columns))\n",
    "\n",
    "\n",
    "print('-' * 100)\n",
    "print('Train Score: RMSE: ',(trainScore_RMSE))\n",
    "print('Test Score: RMSE: ',(testScore_RMSE))\n",
    "\n",
    "print('-' * 100)\n",
    "print('Train Score: MAE: ',(trainScore_MAE))\n",
    "print('Test Score: MAE: ',(testScore_MAE))\n",
    "print('-' * 100)\n",
    "print('Model summary:')\n",
    "model.summary()"
   ]
  },
  {
   "cell_type": "code",
   "execution_count": null,
   "id": "5ae81674",
   "metadata": {},
   "outputs": [],
   "source": []
  }
 ],
 "metadata": {
  "kernelspec": {
   "display_name": "Python 3 (ipykernel)",
   "language": "python",
   "name": "python3"
  },
  "language_info": {
   "codemirror_mode": {
    "name": "ipython",
    "version": 3
   },
   "file_extension": ".py",
   "mimetype": "text/x-python",
   "name": "python",
   "nbconvert_exporter": "python",
   "pygments_lexer": "ipython3",
   "version": "3.9.7"
  }
 },
 "nbformat": 4,
 "nbformat_minor": 5
}
