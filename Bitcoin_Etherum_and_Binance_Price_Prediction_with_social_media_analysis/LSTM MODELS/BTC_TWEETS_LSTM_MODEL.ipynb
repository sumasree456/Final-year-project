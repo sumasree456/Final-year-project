{
 "cells": [
  {
   "cell_type": "code",
   "execution_count": 1,
   "id": "edbb9b66",
   "metadata": {},
   "outputs": [],
   "source": [
    "import numpy as np\n",
    "import pandas as pd\n",
    "import matplotlib.pyplot as plt\n",
    "import math\n",
    "from sklearn.preprocessing import MinMaxScaler\n",
    "from sklearn.metrics import mean_squared_error\n",
    "from keras.models import Sequential\n",
    "from keras.layers import Dense\n",
    "from keras.layers import LSTM\n",
    "import tensorflow as tf"
   ]
  },
  {
   "cell_type": "code",
   "execution_count": 2,
   "id": "0eb1b35b",
   "metadata": {},
   "outputs": [],
   "source": [
    "df = pd.read_csv('BTC_TWEETS_PROCESSED.csv')"
   ]
  },
  {
   "cell_type": "code",
   "execution_count": 3,
   "id": "179648eb",
   "metadata": {},
   "outputs": [
    {
     "data": {
      "text/html": [
       "<div>\n",
       "<style scoped>\n",
       "    .dataframe tbody tr th:only-of-type {\n",
       "        vertical-align: middle;\n",
       "    }\n",
       "\n",
       "    .dataframe tbody tr th {\n",
       "        vertical-align: top;\n",
       "    }\n",
       "\n",
       "    .dataframe thead th {\n",
       "        text-align: right;\n",
       "    }\n",
       "</style>\n",
       "<table border=\"1\" class=\"dataframe\">\n",
       "  <thead>\n",
       "    <tr style=\"text-align: right;\">\n",
       "      <th></th>\n",
       "      <th>Unnamed: 0</th>\n",
       "      <th>Text</th>\n",
       "      <th>likeCount</th>\n",
       "      <th>retweetCount</th>\n",
       "      <th>Date</th>\n",
       "      <th>compound</th>\n",
       "      <th>pos</th>\n",
       "      <th>neg</th>\n",
       "      <th>neu</th>\n",
       "      <th>Twitter_Flair</th>\n",
       "      <th>Twitter_TB_Polarity</th>\n",
       "      <th>Twitter_TB_Subjectivity</th>\n",
       "    </tr>\n",
       "  </thead>\n",
       "  <tbody>\n",
       "    <tr>\n",
       "      <th>0</th>\n",
       "      <td>0</td>\n",
       "      <td>@doejohn73 @Diegoqs80 El Bitcoin serÃ¡ manipul...</td>\n",
       "      <td>3</td>\n",
       "      <td>0</td>\n",
       "      <td>2022-01-01 23:59:58+00:00</td>\n",
       "      <td>0.0</td>\n",
       "      <td>0.0</td>\n",
       "      <td>0.0</td>\n",
       "      <td>1.000</td>\n",
       "      <td>-0.972432</td>\n",
       "      <td>0.000000</td>\n",
       "      <td>0.000000</td>\n",
       "    </tr>\n",
       "    <tr>\n",
       "      <th>1</th>\n",
       "      <td>1</td>\n",
       "      <td>If your interested in losing money in 2022 kee...</td>\n",
       "      <td>7</td>\n",
       "      <td>2</td>\n",
       "      <td>2022-01-01 23:59:35+00:00</td>\n",
       "      <td>0.8</td>\n",
       "      <td>0.2</td>\n",
       "      <td>0.1</td>\n",
       "      <td>0.667</td>\n",
       "      <td>-0.999887</td>\n",
       "      <td>0.356667</td>\n",
       "      <td>0.703333</td>\n",
       "    </tr>\n",
       "    <tr>\n",
       "      <th>2</th>\n",
       "      <td>2</td>\n",
       "      <td>@SirPantsALot2 @fairguinevere @totallynotem_ @...</td>\n",
       "      <td>129</td>\n",
       "      <td>0</td>\n",
       "      <td>2022-01-01 23:59:26+00:00</td>\n",
       "      <td>0.0</td>\n",
       "      <td>0.0</td>\n",
       "      <td>0.0</td>\n",
       "      <td>1.000</td>\n",
       "      <td>0.752120</td>\n",
       "      <td>-0.150000</td>\n",
       "      <td>0.400000</td>\n",
       "    </tr>\n",
       "    <tr>\n",
       "      <th>3</th>\n",
       "      <td>3</td>\n",
       "      <td>BTC diamond reversal and expected volatility f...</td>\n",
       "      <td>1</td>\n",
       "      <td>0</td>\n",
       "      <td>2022-01-01 23:59:10+00:00</td>\n",
       "      <td>0.3</td>\n",
       "      <td>0.2</td>\n",
       "      <td>0.0</td>\n",
       "      <td>0.833</td>\n",
       "      <td>-0.894867</td>\n",
       "      <td>-0.100000</td>\n",
       "      <td>0.400000</td>\n",
       "    </tr>\n",
       "    <tr>\n",
       "      <th>4</th>\n",
       "      <td>4</td>\n",
       "      <td>if we ever get to the point where we start pay...</td>\n",
       "      <td>1</td>\n",
       "      <td>0</td>\n",
       "      <td>2022-01-01 23:59:10+00:00</td>\n",
       "      <td>0.0</td>\n",
       "      <td>0.0</td>\n",
       "      <td>0.0</td>\n",
       "      <td>1.000</td>\n",
       "      <td>-0.729622</td>\n",
       "      <td>0.000000</td>\n",
       "      <td>0.000000</td>\n",
       "    </tr>\n",
       "  </tbody>\n",
       "</table>\n",
       "</div>"
      ],
      "text/plain": [
       "   Unnamed: 0                                               Text  likeCount  \\\n",
       "0           0  @doejohn73 @Diegoqs80 El Bitcoin serÃ¡ manipul...          3   \n",
       "1           1  If your interested in losing money in 2022 kee...          7   \n",
       "2           2  @SirPantsALot2 @fairguinevere @totallynotem_ @...        129   \n",
       "3           3  BTC diamond reversal and expected volatility f...          1   \n",
       "4           4  if we ever get to the point where we start pay...          1   \n",
       "\n",
       "   retweetCount                       Date  compound  pos  neg    neu  \\\n",
       "0             0  2022-01-01 23:59:58+00:00       0.0  0.0  0.0  1.000   \n",
       "1             2  2022-01-01 23:59:35+00:00       0.8  0.2  0.1  0.667   \n",
       "2             0  2022-01-01 23:59:26+00:00       0.0  0.0  0.0  1.000   \n",
       "3             0  2022-01-01 23:59:10+00:00       0.3  0.2  0.0  0.833   \n",
       "4             0  2022-01-01 23:59:10+00:00       0.0  0.0  0.0  1.000   \n",
       "\n",
       "   Twitter_Flair  Twitter_TB_Polarity  Twitter_TB_Subjectivity  \n",
       "0      -0.972432             0.000000                 0.000000  \n",
       "1      -0.999887             0.356667                 0.703333  \n",
       "2       0.752120            -0.150000                 0.400000  \n",
       "3      -0.894867            -0.100000                 0.400000  \n",
       "4      -0.729622             0.000000                 0.000000  "
      ]
     },
     "execution_count": 3,
     "metadata": {},
     "output_type": "execute_result"
    }
   ],
   "source": [
    "df.head()"
   ]
  },
  {
   "cell_type": "code",
   "execution_count": 4,
   "id": "ac6edaaa",
   "metadata": {},
   "outputs": [],
   "source": [
    "df1 = pd.read_excel('BTC_CRYPTO.xlsx')"
   ]
  },
  {
   "cell_type": "code",
   "execution_count": 5,
   "id": "0b6be89b",
   "metadata": {},
   "outputs": [],
   "source": [
    "df['date'] = pd.to_datetime(df['Date'])\n",
    "df['date'] = df['date'].dt.strftime('%y-%m-%d-%H')\n",
    "df1['date'] = df1['date'].dt.strftime('%y-%m-%d-%H')"
   ]
  },
  {
   "cell_type": "code",
   "execution_count": 6,
   "id": "30f39bd3",
   "metadata": {},
   "outputs": [],
   "source": [
    "#merge = [df,df1]\n",
    "#merge = pd.concat(merge)\n",
    "merge = pd.merge(df,df1,on='date')\n",
    "merge.set_index('date',inplace=True)\n",
    "merge.sort_values(by='date',inplace=True)"
   ]
  },
  {
   "cell_type": "code",
   "execution_count": 7,
   "id": "c7ded50b",
   "metadata": {},
   "outputs": [
    {
     "data": {
      "text/plain": [
       "Unnamed: 0                   int64\n",
       "Text                        object\n",
       "likeCount                    int64\n",
       "retweetCount                 int64\n",
       "Date                        object\n",
       "compound                   float64\n",
       "pos                        float64\n",
       "neg                        float64\n",
       "neu                        float64\n",
       "Twitter_Flair              float64\n",
       "Twitter_TB_Polarity        float64\n",
       "Twitter_TB_Subjectivity    float64\n",
       "unix                         int64\n",
       "symbol                      object\n",
       "open                       float64\n",
       "high                       float64\n",
       "low                        float64\n",
       "close                      float64\n",
       "Volume BTC                 float64\n",
       "Volume USDT                float64\n",
       "tradecount                   int64\n",
       "dtype: object"
      ]
     },
     "execution_count": 7,
     "metadata": {},
     "output_type": "execute_result"
    }
   ],
   "source": [
    "merge.dtypes"
   ]
  },
  {
   "cell_type": "code",
   "execution_count": 8,
   "id": "98c8a059",
   "metadata": {},
   "outputs": [],
   "source": [
    "merge.drop('Unnamed: 0',axis=1,inplace=True)\n",
    "merge.drop('unix',axis=1,inplace=True)\n",
    "merge.drop('symbol',axis=1,inplace=True)\n",
    "merge.drop('Text',axis=1,inplace=True)\n",
    "merge.drop('Date',axis=1,inplace=True)\n",
    "#df.drop('Text',axis=1,inplace=True)"
   ]
  },
  {
   "cell_type": "code",
   "execution_count": 9,
   "id": "b2a6a3f7",
   "metadata": {},
   "outputs": [
    {
     "name": "stdout",
     "output_type": "stream",
     "text": [
      "Number of features 16\n"
     ]
    }
   ],
   "source": [
    "dataset = merge.values\n",
    "dataset = dataset.astype('float32')\n",
    "scaler = MinMaxScaler(feature_range=(0, 1))\n",
    "dataset = scaler.fit_transform(dataset)\n",
    "#print('dataset.shape', dataset.shape)\n",
    "num_of_features = len(merge.columns)\n",
    "print('Number of features', num_of_features)"
   ]
  },
  {
   "cell_type": "code",
   "execution_count": 11,
   "id": "727349e3",
   "metadata": {},
   "outputs": [],
   "source": [
    "expr_name = 'expr_5'\n",
    "look_back = 24*7 \n",
    "#lstm_layers = 50\n",
    "epochs=5\n",
    "batch_size=128"
   ]
  },
  {
   "cell_type": "code",
   "execution_count": 12,
   "id": "2e931481",
   "metadata": {},
   "outputs": [
    {
     "name": "stdout",
     "output_type": "stream",
     "text": [
      "Training dataset length  444414\n",
      "Testing dataset length  190464\n",
      "look_back  168\n"
     ]
    }
   ],
   "source": [
    "train_size_percent = 0.70\n",
    "pred_col = merge.columns.get_loc('close')\n",
    "\n",
    "# function to split the data\n",
    "def create_dataset(dataset, pred_col, look_back=1):\n",
    "    dataX, dataY = [], []\n",
    "    for i in range(len(dataset)-look_back-1):\n",
    "        a = dataset[i:(i+look_back), :]\n",
    "        dataX.append(a)\n",
    "        dataY.append(dataset[i + look_back, pred_col])\n",
    "    return np.array(dataX), np.array(dataY)\n",
    "\n",
    "\n",
    "train_size = int(len(dataset) * train_size_percent)\n",
    "test_size = len(dataset) - train_size\n",
    "train, test = dataset[0:train_size, :], dataset[train_size:len(dataset), :]\n",
    "\n",
    "trainX, trainY = create_dataset(train, pred_col, look_back=look_back)\n",
    "testX, testY = create_dataset(test, pred_col, look_back=look_back)\n",
    "# reshape input to be  [samples, time steps, features]\n",
    "trainX = np.reshape(trainX, (trainX.shape[0], look_back, num_of_features))\n",
    "testX = np.reshape(testX, (testX.shape[0],look_back, num_of_features))\n",
    "\n",
    "print('Training dataset length ', len(train))\n",
    "print('Testing dataset length ', len(test))\n",
    "print('look_back ', look_back)"
   ]
  },
  {
   "cell_type": "code",
   "execution_count": null,
   "id": "8b7c8fde",
   "metadata": {},
   "outputs": [],
   "source": []
  },
  {
   "cell_type": "code",
   "execution_count": 13,
   "id": "8045198f",
   "metadata": {},
   "outputs": [
    {
     "name": "stdout",
     "output_type": "stream",
     "text": [
      "Epoch 1/5\n",
      "2777/2777 [==============================] - 676s 241ms/step - loss: 0.0017 - val_loss: 0.0088\n",
      "Epoch 2/5\n",
      "2777/2777 [==============================] - 639s 230ms/step - loss: 3.0500e-04 - val_loss: 0.0119\n",
      "Epoch 3/5\n",
      "2777/2777 [==============================] - 619s 223ms/step - loss: 3.5003e-04 - val_loss: 0.0134\n",
      "Epoch 4/5\n",
      "2777/2777 [==============================] - 687s 247ms/step - loss: 4.0234e-04 - val_loss: 0.0138\n",
      "Epoch 5/5\n",
      "2777/2777 [==============================] - 719s 259ms/step - loss: 4.3913e-04 - val_loss: 0.0134\n"
     ]
    }
   ],
   "source": [
    "\n",
    "model = Sequential()\n",
    "model.add(LSTM(32,input_shape=(look_back,num_of_features)))\n",
    "#model.add(LSTM(100,activation='relu',return_sequences=True))\n",
    "#model.add(LSTM(50,activation='relu',return_sequences=True))\n",
    "#model.add(LSTM(25,activation='relu'))\n",
    "#model.add(LSTM(20,activation='relu'))\n",
    "#model.add(LSTM(10,activation='relu'))\n",
    "model.add(Dense(1))\n",
    "model.compile(loss='mean_squared_error', optimizer='adam')\n",
    "history= model.fit(trainX, trainY,validation_split=0.20, epochs=epochs, batch_size=batch_size,shuffle=False)\n"
   ]
  },
  {
   "cell_type": "code",
   "execution_count": 14,
   "id": "226369c2",
   "metadata": {},
   "outputs": [
    {
     "data": {
      "image/png": "[encoded data removed]",
      "text/plain": [
       "<Figure size 432x288 with 1 Axes>"
      ]
     },
     "metadata": {
      "needs_background": "light"
     },
     "output_type": "display_data"
    }
   ],
   "source": [
    "# Plot training\n",
    "plt.plot(history.history['loss'])\n",
    "plt.plot(history.history['val_loss'])\n",
    "plt.title('Model loss')\n",
    "plt.ylabel('Loss')\n",
    "plt.xlabel('Epoch')\n",
    "plt.legend(['training','validation'], loc='upper right')\n",
    "plt.show()"
   ]
  },
  {
   "cell_type": "code",
   "execution_count": 15,
   "id": "4044bbd3",
   "metadata": {},
   "outputs": [],
   "source": [
    "trainPredict = model.predict(trainX)\n",
    "testPredict = model.predict(testX)\n",
    "\n",
    "# Get something which has as many features as dataset\n",
    "trainPredict_extended = np.zeros((len(trainPredict),num_of_features))\n",
    "# Put the predictions there\n",
    "trainPredict_extended[:,pred_col] = trainPredict[:,0]\n",
    "# Inverse transform it and select the 3rd column.\n",
    "trainPredict = scaler.inverse_transform(trainPredict_extended) [:,pred_col]\n",
    "\n",
    "# Get something which has as many features as dataset\n",
    "testPredict_extended = np.zeros((len(testPredict),num_of_features))\n",
    "# Put the predictions there\n",
    "testPredict_extended[:,pred_col] = testPredict[:,0]\n",
    "# Inverse transform it and select the pred_col column.\n",
    "testPredict = scaler.inverse_transform(testPredict_extended)[:,pred_col] \n",
    "\n",
    "trainY_extended = np.zeros((len(trainY),num_of_features))\n",
    "trainY_extended[:,pred_col]=trainY\n",
    "trainY = scaler.inverse_transform(trainY_extended)[:,pred_col]\n",
    "\n",
    "testY_extended = np.zeros((len(testY),num_of_features))\n",
    "testY_extended[:,pred_col]=testY\n",
    "testY = scaler.inverse_transform(testY_extended)[:,pred_col]\n",
    "\n",
    "# calculate root mean squared error\n",
    "trainScore_RMSE = math.sqrt(mean_squared_error(trainY, trainPredict))\n",
    "testScore_RMSE = math.sqrt(mean_squared_error(testY, testPredict))\n",
    "\n",
    "# calculate absolute mean error\n",
    "trainScore_MAE = np.sum(np.absolute(trainY - trainPredict))/len(trainY)\n",
    "testScore_MAE = np.sum(np.absolute(testY - testPredict))/len(testY)"
   ]
  },
  {
   "cell_type": "code",
   "execution_count": 16,
   "id": "136feb37",
   "metadata": {},
   "outputs": [
    {
     "data": {
      "image/png": "[encoded data removed]",
      "text/plain": [
       "<Figure size 1080x504 with 1 Axes>"
      ]
     },
     "metadata": {
      "needs_background": "light"
     },
     "output_type": "display_data"
    }
   ],
   "source": [
    "trainPredictPlot = np.empty_like(dataset)\n",
    "trainPredictPlot[:, :] = np.nan\n",
    "trainPredictPlot[look_back:len(trainPredict)+look_back, pred_col] = trainPredict\n",
    "\n",
    "# shift test predictions for plotting\n",
    "testPredictPlot = np.empty_like(dataset)\n",
    "testPredictPlot[:, :] = np.nan\n",
    "testPredictPlot[len(trainPredict)+(look_back*2)+1:len(dataset)-1, pred_col] = testPredict\n",
    "\n",
    "# contruct pandas dataframe for plotting\n",
    "time_df = pd.DataFrame(merge.index)\n",
    "time_df['Actual'] = scaler.inverse_transform(dataset)[:,pred_col]\n",
    "df1 = pd.DataFrame(trainPredictPlot[:,pred_col],columns=['Train'])\n",
    "df2 = pd.DataFrame(testPredictPlot[:,pred_col],columns=['Test'])\n",
    "time_df2 = pd.concat([time_df, df1, df2], axis=1, sort=True)\n",
    "time_df2.set_index('date',inplace=True)\n",
    "\n",
    "# plot the output\n",
    "fig, ax = plt.subplots(figsize=(15,7))\n",
    "time_df2.plot(ax=ax,rot=90,alpha=0.7)\n",
    "plt.xlabel('Date')\n",
    "plt.ylabel('Bitcoin Value')\n",
    "plt.title('Bitcoin Price Prediction')\n",
    "plt.savefig(expr_name + '.png',bbox_inches = \"tight\")"
   ]
  },
  {
   "cell_type": "code",
   "execution_count": 18,
   "id": "6647dde7",
   "metadata": {},
   "outputs": [
    {
     "name": "stdout",
     "output_type": "stream",
     "text": [
      "----------------------------------------------------------------------------------------------------\n",
      "Experiment name: expr_5\n",
      "----------------------------------------------------------------------------------------------------\n",
      "look_back days: 7.0\n",
      "epochs: 5\n",
      "batch_size: 128\n",
      "dataset features ['likeCount', 'retweetCount', 'compound', 'pos', 'neg', 'neu', 'Twitter_Flair', 'Twitter_TB_Polarity', 'Twitter_TB_Subjectivity', 'open', 'high', 'low', 'close', 'Volume BTC', 'Volume USDT', 'tradecount']\n",
      "----------------------------------------------------------------------------------------------------\n",
      "Train Score: RMSE:  2251.24109586841\n",
      "Test Score: RMSE:  5638.555487982181\n",
      "----------------------------------------------------------------------------------------------------\n",
      "Train Score: MAE:  1548.0776539924902\n",
      "Test Score: MAE:  5516.716085786278\n",
      "----------------------------------------------------------------------------------------------------\n",
      "Model summary:\n",
      "Model: \"sequential\"\n",
      "_________________________________________________________________\n",
      " Layer (type)                Output Shape              Param #   \n",
      "=================================================================\n",
      " lstm (LSTM)                 (None, 32)                6272      \n",
      "                                                                 \n",
      " dense (Dense)               (None, 1)                 33        \n",
      "                                                                 \n",
      "=================================================================\n",
      "Total params: 6,305\n",
      "Trainable params: 6,305\n",
      "Non-trainable params: 0\n",
      "_________________________________________________________________\n"
     ]
    }
   ],
   "source": [
    "print('-' * 100)\n",
    "print('Experiment name:', expr_name)\n",
    "\n",
    "print('-' * 100)\n",
    "print('look_back days:', look_back/24)\n",
    "#print('lstm_layers:', lstm_layers)\n",
    "print('epochs:', epochs)\n",
    "print('batch_size:', batch_size)\n",
    "print('dataset features', list(merge.columns))\n",
    "\n",
    "\n",
    "print('-' * 100)\n",
    "print('Train Score: RMSE: ',(trainScore_RMSE))\n",
    "print('Test Score: RMSE: ',(testScore_RMSE))\n",
    "\n",
    "print('-' * 100)\n",
    "print('Train Score: MAE: ',(trainScore_MAE))\n",
    "print('Test Score: MAE: ',(testScore_MAE))\n",
    "print('-' * 100)\n",
    "print('Model summary:')\n",
    "model.summary()"
   ]
  },
  {
   "cell_type": "code",
   "execution_count": null,
   "id": "c18883b0",
   "metadata": {},
   "outputs": [],
   "source": []
  }
 ],
 "metadata": {
  "kernelspec": {
   "display_name": "Python 3 (ipykernel)",
   "language": "python",
   "name": "python3"
  },
  "language_info": {
   "codemirror_mode": {
    "name": "ipython",
    "version": 3
   },
   "file_extension": ".py",
   "mimetype": "text/x-python",
   "name": "python",
   "nbconvert_exporter": "python",
   "pygments_lexer": "ipython3",
   "version": "3.9.7"
  }
 },
 "nbformat": 4,
 "nbformat_minor": 5
}
